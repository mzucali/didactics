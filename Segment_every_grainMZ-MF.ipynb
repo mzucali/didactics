{
 "cells": [
  {
   "cell_type": "markdown",
   "id": "45e6be05-b4d8-451a-b2fc-a734c997ee0c",
   "metadata": {},
   "source": [
    "## Check System Python"
   ]
  },
  {
   "cell_type": "code",
   "execution_count": null,
   "id": "45b77701-1d66-4d42-8fde-cbd86c822f26",
   "metadata": {},
   "outputs": [],
   "source": [
    "!/Users/miki/miniconda3/bin/conda list"
   ]
  },
  {
   "cell_type": "code",
   "execution_count": 2,
   "id": "549c2826-16eb-4b17-9569-10e3de95ada7",
   "metadata": {
    "slideshow": {
     "slide_type": ""
    },
    "tags": []
   },
   "outputs": [
    {
     "name": "stdout",
     "output_type": "stream",
     "text": [
      "SYS check\n",
      "/Users/miki/miniconda3/bin/python\n",
      "3.11.5 (main, Sep 11 2023, 08:31:25) [Clang 14.0.6 ]\n",
      "sys.version_info(major=3, minor=11, micro=5, releaselevel='final', serial=0)\n"
     ]
    }
   ],
   "source": [
    "import sys\n",
    "print(\"SYS check\")\n",
    "print(sys.executable)\n",
    "print(sys.version)\n",
    "print(sys.version_info)"
   ]
  },
  {
   "cell_type": "markdown",
   "id": "34745372-8959-4089-98aa-19c4637eeec3",
   "metadata": {
    "tags": []
   },
   "source": [
    "## Import packages"
   ]
  },
  {
   "cell_type": "code",
   "execution_count": 3,
   "id": "a16082be-1029-4524-9db8-21bb44c49399",
   "metadata": {
    "slideshow": {
     "slide_type": ""
    },
    "tags": []
   },
   "outputs": [],
   "source": [
    "from PIL import Image\n",
    "import pandas as pd\n",
    "import numpy as np\n",
    "import matplotlib\n",
    "import matplotlib.pyplot as plt\n",
    "import cv2\n",
    "from skimage import measure\n",
    "from skimage.measure import regionprops, regionprops_table\n",
    "from tensorflow.keras.optimizers.legacy import Adam\n",
    "from tensorflow.keras.preprocessing.image import load_img\n",
    "from importlib import reload\n",
    "import segmenteverygrain as seg\n",
    "from segment_anything import sam_model_registry, SamAutomaticMaskGenerator, SamPredictor\n",
    "from tqdm import trange\n",
    "import geopandas as gpd\n",
    "import fiona\n",
    "%matplotlib qt\n",
    "#%matplotlib notebook\n",
    "##%matplotlib widget\n",
    "##%matplotlib ipympl"
   ]
  },
  {
   "cell_type": "markdown",
   "id": "f474ac20",
   "metadata": {
    "slideshow": {
     "slide_type": ""
    },
    "tags": []
   },
   "source": [
    "## Load models"
   ]
  },
  {
   "cell_type": "code",
   "execution_count": 5,
   "id": "fe1bd2bc",
   "metadata": {
    "tags": []
   },
   "outputs": [
    {
     "name": "stdout",
     "output_type": "stream",
     "text": [
      "WARNING:tensorflow:Detecting that an object or model or tf.train.Checkpoint is being deleted with unrestored values. See the following logs for the specific values in question. To silence these warnings, use `status.expect_partial()`. See https://www.tensorflow.org/api_docs/python/tf/train/Checkpoint#restorefor details about the status object returned by the restore function.\n",
      "WARNING:tensorflow:Value in checkpoint could not be found in the restored object: (root).optimizer.iter\n",
      "WARNING:tensorflow:Value in checkpoint could not be found in the restored object: (root).optimizer.beta_1\n",
      "WARNING:tensorflow:Value in checkpoint could not be found in the restored object: (root).optimizer.beta_2\n",
      "WARNING:tensorflow:Value in checkpoint could not be found in the restored object: (root).optimizer.decay\n",
      "WARNING:tensorflow:Value in checkpoint could not be found in the restored object: (root).optimizer.learning_rate\n"
     ]
    }
   ],
   "source": [
    "model = seg.Unet()\n",
    "model.compile(optimizer=Adam(), loss=seg.weighted_crossentropy, metrics=[\"accuracy\"])\n",
    "model.load_weights('./checkpoints/seg_model');\n",
    "\n",
    "# the SAM model checkpoints can be downloaded from: https://dl.fbaipublicfiles.com/segment_anything/sam_vit_h_4b8939.pth\n",
    "sam = sam_model_registry[\"default\"](checkpoint=\"/Users/miki/Library/CloudStorage/OneDrive-UniversitàdegliStudidiMilano/Ricerca/SAM_AI/sam_vit_h_4b8939.pth\")"
   ]
  },
  {
   "cell_type": "markdown",
   "id": "a3c1dfc6",
   "metadata": {
    "tags": []
   },
   "source": [
    "## Run segmentation\n",
    "\n",
    "Grains are supposed to be well defined in the image; e.g., if a grain consists of only a few pixels, it is unlikely to be detected.\n",
    "\n",
    "The segmentation can take a few minutes even for medium-sized images, so do not start with large images (downsample them if necessary). Images with ~2000 pixels along their largest dimension are a good start."
   ]
  },
  {
   "cell_type": "code",
   "execution_count": null,
   "id": "751ed417",
   "metadata": {},
   "outputs": [],
   "source": [
    "# reload(seg)\n",
    "# fname = '../images/bucegi_conglomerate_1_image.png'\n",
    "# fname = '../images/A003_20201229_103823_image.png'\n",
    "# fname = '../images/IMG_5208_image.png'\n",
    "#fname = '/Users/miki/Dropbox/Mac/Downloads/SAM_AI/A003_20201229_103823_image.png'\n",
    "#fname = '/Users/miki/Library/CloudStorage/OneDrive-UniversitàdegliStudidiMilano/Ricerca/SAM_AI/1B.006.N_002.jpg'\n",
    "#fname = '/Users/miki/Library/CloudStorage/OneDrive-UniversitàdegliStudidiMilano/Ricerca/SAM_AI/volc1.jpg'\n",
    "#fname = '/Users/miki/Library/CloudStorage/OneDrive-UniversitàdegliStudidiMilano/Ricerca/SAM_AI/anf16_ppl_4800.tif'\n",
    "\n",
    "#fname = '/Users/miki/Library/CloudStorage/OneDrive-UniversitàdegliStudidiMilano/Ricerca/SAM_AI/prova.tif'\n",
    "fname = '/Users/miki/Library/CloudStorage/OneDrive-UniversitàdegliStudidiMilano/Ricerca/SAM_AI/images/mag2.jpg'\n",
    "# fname = '/Users/zoltan/Downloads/vecteezy_stone-pebbles-on-river-bed_3366528.jpg'\n",
    "\n",
    "big_im = np.array(load_img(fname))\n",
    "big_im_pred = seg.predict_big_image(big_im, model, I=256)\n",
    "# decreasing the 'dbs_max_dist' parameter results in more SAM prompts (and longer processing times):\n",
    "labels, grains, coords = seg.label_grains(big_im, big_im_pred, dbs_max_dist=10.0)\n",
    "all_grains, labels, mask_all, grain_data, fig, ax = seg.sam_segmentation(sam, big_im, big_im_pred, coords, labels, min_area=50.0)\n",
    "print(\"terminated!\")\n"
   ]
  },
  {
   "cell_type": "code",
   "execution_count": 23,
   "id": "025e9515-7235-49fd-8ae0-04b4af6c8945",
   "metadata": {
    "tags": []
   },
   "outputs": [
    {
     "data": {
      "text/plain": [
       "[<POLYGON ((596 190.5, 595 190.5, 594 190.5, 593 190.5, 592 190.5, 591 190.5,...>,\n",
       " <POLYGON ((721 239.5, 720 239.5, 719 239.5, 718 239.5, 717 239.5, 716 239.5,...>,\n",
       " <POLYGON ((800 336.5, 799 336.5, 798 336.5, 797.5 336, 797.5 335, 797 334.5,...>,\n",
       " <POLYGON ((399 436.5, 398 436.5, 397 436.5, 396 436.5, 395 436.5, 394 436.5,...>,\n",
       " <POLYGON ((956 431.5, 955 431.5, 954 431.5, 953.5 431, 953 430.5, 952 430.5,...>,\n",
       " <POLYGON ((913 516.5, 912.5 516, 912 515.5, 911 515.5, 910.5 515, 910 514.5,...>,\n",
       " <POLYGON ((360 792.5, 359 792.5, 358 792.5, 357 792.5, 356 792.5, 355 792.5,...>,\n",
       " <POLYGON ((1617 986.5, 1616.5 986, 1616 985.5, 1615 985.5, 1614 985.5, 1613 ...>,\n",
       " <POLYGON ((686 1134.5, 685 1134.5, 684 1134.5, 683 1134.5, 682 1134.5, 681 1...>,\n",
       " <POLYGON ((1320 978.5, 1319.5 978, 1319 977.5, 1318.5 977, 1318 976.5, 1317....>,\n",
       " <POLYGON ((40 1064.5, 39 1064.5, 38 1064.5, 37 1064.5, 36 1064.5, 35 1064.5,...>,\n",
       " <POLYGON ((268 380.5, 267 380.5, 266 380.5, 265 380.5, 264 380.5, 263 380.5,...>,\n",
       " <POLYGON ((1727 534.5, 1726 534.5, 1725 534.5, 1724 534.5, 1723.5 535, 1723....>,\n",
       " <POLYGON ((253 1042.5, 252 1042.5, 251 1042.5, 250 1042.5, 249 1042.5, 248 1...>,\n",
       " <POLYGON ((161 18.5, 160 18.5, 159 18.5, 158 18.5, 157 18.5, 156.5 18, 156 1...>,\n",
       " <POLYGON ((465 103.5, 464 103.5, 463 103.5, 462 103.5, 461.5 103, 461 102.5,...>,\n",
       " <POLYGON ((791 27.5, 790 27.5, 789 27.5, 788 27.5, 787 27.5, 786 27.5, 785 2...>,\n",
       " <POLYGON ((1227 24.5, 1226 24.5, 1225 24.5, 1224 24.5, 1223 24.5, 1222 24.5,...>,\n",
       " <POLYGON ((1445 35.5, 1444 35.5, 1443 35.5, 1442 35.5, 1441 35.5, 1440 35.5,...>,\n",
       " <POLYGON ((1634 83.5, 1633 83.5, 1632 83.5, 1631 83.5, 1630 83.5, 1629 83.5,...>,\n",
       " <POLYGON ((229 34.5, 228 34.5, 227 34.5, 226 34.5, 225 34.5, 224 34.5, 223 3...>,\n",
       " <POLYGON ((193 74.5, 192 74.5, 191 74.5, 190 74.5, 189 74.5, 188.5 74, 188 7...>,\n",
       " <POLYGON ((923 56.5, 922.5 56, 922 55.5, 921 55.5, 920 55.5, 919 55.5, 918 5...>,\n",
       " <POLYGON ((1255 90.5, 1254 90.5, 1253 90.5, 1252 90.5, 1251.5 90, 1251 89.5,...>,\n",
       " <POLYGON ((1387 96.5, 1386 96.5, 1385 96.5, 1384 96.5, 1383 96.5, 1382 96.5,...>,\n",
       " <POLYGON ((771 86.5, 770 86.5, 769 86.5, 768 86.5, 767 86.5, 766 86.5, 765.5...>,\n",
       " <POLYGON ((1441 85.5, 1440 85.5, 1439 85.5, 1438 85.5, 1437 85.5, 1436 85.5,...>,\n",
       " <POLYGON ((930 116.5, 929 116.5, 928 116.5, 927 116.5, 926 116.5, 925 116.5,...>,\n",
       " <POLYGON ((1020 353.5, 1019 353.5, 1018 353.5, 1017 353.5, 1016 353.5, 1015 ...>,\n",
       " <POLYGON ((1460 132.5, 1459 132.5, 1458 132.5, 1457.5 132, 1457 131.5, 1456 ...>,\n",
       " <POLYGON ((522 212.5, 521 212.5, 520 212.5, 519 212.5, 518 212.5, 517 212.5,...>,\n",
       " <POLYGON ((576 114.5, 575 114.5, 574 114.5, 573 114.5, 572 114.5, 571 114.5,...>,\n",
       " <POLYGON ((862 322.5, 861 322.5, 860 322.5, 859 322.5, 858 322.5, 857 322.5,...>,\n",
       " <POLYGON ((256 160.5, 255 160.5, 254 160.5, 253 160.5, 252 160.5, 251 160.5,...>,\n",
       " <POLYGON ((409 153.5, 408 153.5, 407 153.5, 406 153.5, 405 153.5, 404 153.5,...>,\n",
       " <POLYGON ((1428 220.5, 1427.5 220, 1427 219.5, 1426 219.5, 1425 219.5, 1424 ...>,\n",
       " <POLYGON ((1393 203.5, 1392 203.5, 1391 203.5, 1390 203.5, 1389 203.5, 1388 ...>,\n",
       " <POLYGON ((1320 204.5, 1319 204.5, 1318 204.5, 1317.5 204, 1317 203.5, 1316 ...>,\n",
       " <POLYGON ((505 165.5, 504 165.5, 503 165.5, 502 165.5, 501 165.5, 500 165.5,...>,\n",
       " <POLYGON ((532 283.5, 531 283.5, 530 283.5, 529 283.5, 528 283.5, 527 283.5,...>,\n",
       " <POLYGON ((89 258.5, 88 258.5, 87 258.5, 86 258.5, 85 258.5, 84 258.5, 83 25...>,\n",
       " <POLYGON ((475 237.5, 474.5 237, 474 236.5, 473 236.5, 472 236.5, 471 236.5,...>,\n",
       " <POLYGON ((1727 398.5, 1726 398.5, 1725 398.5, 1724 398.5, 1723.5 399, 1723 ...>,\n",
       " <POLYGON ((1340 397.5, 1339 397.5, 1338 397.5, 1337 397.5, 1336 397.5, 1335 ...>,\n",
       " <POLYGON ((101 356.5, 100 356.5, 99 356.5, 98 356.5, 97 356.5, 96.5 356, 96 ...>,\n",
       " <POLYGON ((679 318.5, 678 318.5, 677 318.5, 676 318.5, 675 318.5, 674 318.5,...>,\n",
       " <POLYGON ((517 382.5, 516 382.5, 515 382.5, 514 382.5, 513 382.5, 512 382.5,...>,\n",
       " <POLYGON ((646 358.5, 645 358.5, 644.5 358, 644 357.5, 643 357.5, 642 357.5,...>,\n",
       " <POLYGON ((1649 427.5, 1648 427.5, 1647 427.5, 1646 427.5, 1645 427.5, 1644 ...>,\n",
       " <POLYGON ((13 384.5, 12 384.5, 11 384.5, 10 384.5, 9 384.5, 8 384.5, 7 384.5...>,\n",
       " <POLYGON ((1165 394.5, 1164 394.5, 1163 394.5, 1162 394.5, 1161 394.5, 1160 ...>,\n",
       " <POLYGON ((4 441.5, 3 441.5, 2 441.5, 1 441.5, 0 441.5, -0.5 441, -0.5 440, ...>,\n",
       " <POLYGON ((1448 508.5, 1447 508.5, 1446 508.5, 1445 508.5, 1444.5 508, 1444 ...>,\n",
       " <POLYGON ((1015 401.5, 1014 401.5, 1013 401.5, 1012.5 401, 1012 400.5, 1011 ...>,\n",
       " <POLYGON ((253 447.5, 252 447.5, 251 447.5, 250.5 447, 250 446.5, 249 446.5,...>,\n",
       " <POLYGON ((538 445.5, 537 445.5, 536 445.5, 535 445.5, 534 445.5, 533.5 445,...>,\n",
       " <POLYGON ((513 450.5, 512 450.5, 511 450.5, 510 450.5, 509 450.5, 508 450.5,...>,\n",
       " <POLYGON ((1313 463.5, 1312 463.5, 1311 463.5, 1310 463.5, 1309 463.5, 1308 ...>,\n",
       " <POLYGON ((1363 682.5, 1362 682.5, 1361 682.5, 1360 682.5, 1359 682.5, 1358 ...>,\n",
       " <POLYGON ((685 543.5, 684 543.5, 683 543.5, 682 543.5, 681 543.5, 680 543.5,...>,\n",
       " <POLYGON ((673 480.5, 672 480.5, 671 480.5, 670 480.5, 669.5 480, 669 479.5,...>,\n",
       " <POLYGON ((396 462.5, 395 462.5, 394 462.5, 393 462.5, 392 462.5, 391 462.5,...>,\n",
       " <POLYGON ((3 582.5, 2 582.5, 1 582.5, 0 582.5, -0.5 582, -0.5 581, -0.5 580,...>,\n",
       " <POLYGON ((321 718.5, 320 718.5, 319 718.5, 318.5 718, 318 717.5, 317 717.5,...>,\n",
       " <POLYGON ((1727 464.5, 1726 464.5, 1725 464.5, 1724.5 465, 1724 465.5, 1723 ...>,\n",
       " <POLYGON ((438 482.5, 437 482.5, 436 482.5, 435 482.5, 434.5 482, 434 481.5,...>,\n",
       " <POLYGON ((337 575.5, 336 575.5, 335 575.5, 334 575.5, 333 575.5, 332 575.5,...>,\n",
       " <POLYGON ((1314 566.5, 1313 566.5, 1312 566.5, 1311.5 566, 1311 565.5, 1310 ...>,\n",
       " <POLYGON ((1564 605.5, 1563 605.5, 1562 605.5, 1561 605.5, 1560 605.5, 1559 ...>,\n",
       " <POLYGON ((139 551.5, 138 551.5, 137 551.5, 136 551.5, 135 551.5, 134 551.5,...>,\n",
       " <POLYGON ((757 588.5, 756 588.5, 755 588.5, 754 588.5, 753 588.5, 752.5 588,...>,\n",
       " <POLYGON ((267 565.5, 266 565.5, 265 565.5, 264 565.5, 263 565.5, 262 565.5,...>,\n",
       " <POLYGON ((1340 576.5, 1339.5 576, 1339 575.5, 1338 575.5, 1337.5 575, 1337 ...>,\n",
       " <POLYGON ((1727 629.5, 1726 629.5, 1725 629.5, 1724 629.5, 1723.5 630, 1723 ...>,\n",
       " <POLYGON ((695 573.5, 694 573.5, 693 573.5, 692 573.5, 691 573.5, 690 573.5,...>,\n",
       " <POLYGON ((1118 802.5, 1117 802.5, 1116 802.5, 1115.5 802, 1115 801.5, 1114 ...>,\n",
       " <POLYGON ((62 641.5, 61 641.5, 60 641.5, 59 641.5, 58 641.5, 57 641.5, 56 64...>,\n",
       " <POLYGON ((736 670.5, 735 670.5, 734 670.5, 733 670.5, 732 670.5, 731 670.5,...>,\n",
       " <POLYGON ((295 677.5, 294 677.5, 293 677.5, 292 677.5, 291 677.5, 290 677.5,...>,\n",
       " <POLYGON ((1488 740.5, 1487 740.5, 1486 740.5, 1485 740.5, 1484 740.5, 1483 ...>,\n",
       " <POLYGON ((798 686.5, 797.5 686, 797 685.5, 796 685.5, 795 685.5, 794 685.5,...>,\n",
       " <POLYGON ((145 668.5, 144 668.5, 143 668.5, 142 668.5, 141.5 668, 141 667.5,...>,\n",
       " <POLYGON ((890 813.5, 889 813.5, 888 813.5, 887 813.5, 886 813.5, 885.5 813,...>,\n",
       " <POLYGON ((1586 689.5, 1585 689.5, 1584 689.5, 1583 689.5, 1582 689.5, 1581 ...>,\n",
       " <POLYGON ((83 676.5, 82.5 676, 82 675.5, 81 675.5, 80 675.5, 79 675.5, 78 67...>,\n",
       " <POLYGON ((3 699.5, 2 699.5, 1 699.5, 0 699.5, -0.5 699, -0.5 698, -0.5 697,...>,\n",
       " <POLYGON ((556 692.5, 555 692.5, 554.5 692, 554 691.5, 553 691.5, 552 691.5,...>,\n",
       " <POLYGON ((2 758.5, 1 758.5, 0 758.5, -0.5 758, -0.5 757, -0.5 756, -0.5 755...>,\n",
       " <POLYGON ((1727 750.5, 1726 750.5, 1725 750.5, 1724 750.5, 1723 750.5, 1722....>,\n",
       " <POLYGON ((1580 738.5, 1579 738.5, 1578 738.5, 1577 738.5, 1576 738.5, 1575 ...>,\n",
       " <POLYGON ((111 1133.5, 110 1133.5, 109 1133.5, 108 1133.5, 107.5 1133, 107 1...>,\n",
       " <POLYGON ((105 1014.5, 104.5 1014, 104 1013.5, 103 1013.5, 102 1013.5, 101.5...>,\n",
       " <POLYGON ((1638 758.5, 1637 758.5, 1636 758.5, 1635 758.5, 1634 758.5, 1633....>,\n",
       " <POLYGON ((1255 860.5, 1254 860.5, 1253 860.5, 1252 860.5, 1251 860.5, 1250 ...>,\n",
       " <POLYGON ((1651 786.5, 1650 786.5, 1649 786.5, 1648 786.5, 1647 786.5, 1646 ...>,\n",
       " <POLYGON ((1584 807.5, 1583 807.5, 1582 807.5, 1581 807.5, 1580.5 807, 1580 ...>,\n",
       " <POLYGON ((796 958.5, 795 958.5, 794 958.5, 793 958.5, 792 958.5, 791 958.5,...>,\n",
       " <POLYGON ((1727 953.5, 1726 953.5, 1725 953.5, 1724 953.5, 1723 953.5, 1722....>,\n",
       " <POLYGON ((584 855.5, 583 855.5, 582 855.5, 581.5 855, 581 854.5, 580 854.5,...>,\n",
       " <POLYGON ((706 882.5, 705.5 882, 705 881.5, 704 881.5, 703 881.5, 702.5 881,...>,\n",
       " <POLYGON ((1476 907.5, 1475 907.5, 1474 907.5, 1473 907.5, 1472 907.5, 1471 ...>,\n",
       " <POLYGON ((253 856.5, 252 856.5, 251 856.5, 250.5 856, 250 855.5, 249 855.5,...>,\n",
       " <POLYGON ((538 893.5, 537 893.5, 536 893.5, 535 893.5, 534 893.5, 533.5 893,...>,\n",
       " <POLYGON ((547 1068.5, 546 1068.5, 545 1068.5, 544 1068.5, 543 1068.5, 542 1...>,\n",
       " <POLYGON ((596 917.5, 595 917.5, 594.5 917, 594 916.5, 593 916.5, 592 916.5,...>,\n",
       " <POLYGON ((208 1134.5, 207 1134.5, 206 1134.5, 205 1134.5, 204 1134.5, 203 1...>,\n",
       " <POLYGON ((1407 929.5, 1406 929.5, 1405 929.5, 1404.5 929, 1404 928.5, 1403....>,\n",
       " <POLYGON ((1543 941.5, 1542 941.5, 1541 941.5, 1540 941.5, 1539.5 941, 1539 ...>,\n",
       " <POLYGON ((1259 1013.5, 1258 1013.5, 1257 1013.5, 1256 1013.5, 1255 1013.5, ...>,\n",
       " <POLYGON ((1176 1117.5, 1175 1117.5, 1174 1117.5, 1173 1117.5, 1172 1117.5, ...>,\n",
       " <POLYGON ((802 998.5, 801 998.5, 800 998.5, 799 998.5, 798 998.5, 797.5 998,...>,\n",
       " <POLYGON ((1727 997.5, 1726 997.5, 1725 997.5, 1724 997.5, 1723 997.5, 1722 ...>,\n",
       " <POLYGON ((684 1073.5, 683 1073.5, 682 1073.5, 681 1073.5, 680 1073.5, 679 1...>,\n",
       " <POLYGON ((1644 1134.5, 1643 1134.5, 1642 1134.5, 1641 1134.5, 1640 1134.5, ...>,\n",
       " <POLYGON ((444 1062.5, 443 1062.5, 442 1062.5, 441 1062.5, 440 1062.5, 439 1...>,\n",
       " <POLYGON ((976 1105.5, 975 1105.5, 974 1105.5, 973.5 1105, 973.5 1104, 973 1...>,\n",
       " <POLYGON ((1728 1134.5, 1727 1134.5, 1726 1134.5, 1725 1134.5, 1724 1134.5, ...>,\n",
       " <POLYGON ((951 1134.5, 950 1134.5, 949 1134.5, 948 1134.5, 947 1134.5, 946 1...>,\n",
       " <POLYGON ((1469 1134.5, 1468 1134.5, 1467 1134.5, 1466 1134.5, 1465 1134.5, ...>,\n",
       " <POLYGON ((750 1134.5, 749 1134.5, 748 1134.5, 747 1134.5, 746 1134.5, 745 1...>,\n",
       " <POLYGON ((1302 1134.5, 1301 1134.5, 1300 1134.5, 1299 1134.5, 1298 1134.5, ...>,\n",
       " <POLYGON ((539 1134.5, 538 1134.5, 537 1134.5, 536 1134.5, 535 1134.5, 534 1...>,\n",
       " <POLYGON ((1087 1134.5, 1086 1134.5, 1085 1134.5, 1084 1134.5, 1083 1134.5, ...>,\n",
       " <POLYGON ((982 1134.5, 981 1134.5, 980 1134.5, 979 1134.5, 978 1134.5, 977 1...>,\n",
       " <POLYGON ((270 1134.5, 269 1134.5, 268 1134.5, 267 1134.5, 266 1134.5, 265 1...>,\n",
       " <POLYGON ((1102 19.5, 1101 19.5, 1100 19.5, 1099 19.5, 1098 19.5, 1097 19.5,...>,\n",
       " <POLYGON ((438 159.5, 437 159.5, 436 159.5, 435 159.5, 434 159.5, 433 159.5,...>,\n",
       " <POLYGON ((706 139.5, 705 139.5, 704 139.5, 703 139.5, 702.5 139, 702 138.5,...>,\n",
       " <POLYGON ((707 424.5, 706 424.5, 705 424.5, 704 424.5, 703 424.5, 702 424.5,...>,\n",
       " <POLYGON ((4 486.5, 3 486.5, 2 486.5, 1 486.5, 0 486.5, -0.5 486, -0.5 485, ...>,\n",
       " <POLYGON ((443 656.5, 442 656.5, 441 656.5, 440 656.5, 439.5 656, 439 655.5,...>,\n",
       " <POLYGON ((261 639.5, 260 639.5, 259 639.5, 258 639.5, 257 639.5, 256 639.5,...>,\n",
       " <POLYGON ((1654 730.5, 1653 730.5, 1652 730.5, 1651 730.5, 1650 730.5, 1649 ...>,\n",
       " <POLYGON ((695 935.5, 694 935.5, 693 935.5, 692 935.5, 691 935.5, 690 935.5,...>,\n",
       " <POLYGON ((1130 1019.5, 1129 1019.5, 1128 1019.5, 1127 1019.5, 1126.5 1019, ...>,\n",
       " <POLYGON ((1132 1134.5, 1131 1134.5, 1130 1134.5, 1129 1134.5, 1128 1134.5, ...>,\n",
       " <POLYGON ((1259 245.5, 1258 245.5, 1257 245.5, 1256 245.5, 1255 245.5, 1254....>,\n",
       " <POLYGON ((389 1096.5, 388 1096.5, 387 1096.5, 386 1096.5, 385 1096.5, 384 1...>,\n",
       " <POLYGON ((1010 18.5, 1009 18.5, 1008 18.5, 1007 18.5, 1006 18.5, 1005 18.5,...>,\n",
       " <POLYGON ((1466 6.5, 1465 6.5, 1464 6.5, 1463 6.5, 1462 6.5, 1461 6.5, 1460 ...>,\n",
       " <POLYGON ((1129 338.5, 1128 338.5, 1127 338.5, 1126 338.5, 1125 338.5, 1124 ...>,\n",
       " <POLYGON ((267 43.5, 266 43.5, 265 43.5, 264 43.5, 263 43.5, 262 43.5, 261 4...>,\n",
       " <POLYGON ((1448 57.5, 1447 57.5, 1446 57.5, 1445 57.5, 1444 57.5, 1443 57.5,...>,\n",
       " <POLYGON ((392 89.5, 391 89.5, 390 89.5, 389 89.5, 388 89.5, 387 89.5, 386 8...>,\n",
       " <POLYGON ((1337 62.5, 1336 62.5, 1335 62.5, 1334 62.5, 1333 62.5, 1332 62.5,...>,\n",
       " <POLYGON ((1318 76.5, 1317 76.5, 1316 76.5, 1315 76.5, 1314 76.5, 1313 76.5,...>,\n",
       " <POLYGON ((194 135.5, 193 135.5, 192 135.5, 191 135.5, 190 135.5, 189 135.5,...>,\n",
       " <POLYGON ((1434 104.5, 1433 104.5, 1432 104.5, 1431 104.5, 1430 104.5, 1429 ...>,\n",
       " <POLYGON ((1257 177.5, 1256 177.5, 1255 177.5, 1254 177.5, 1253 177.5, 1252 ...>,\n",
       " <POLYGON ((441 121.5, 440 121.5, 439 121.5, 438 121.5, 437 121.5, 436 121.5,...>,\n",
       " <POLYGON ((940 170.5, 939 170.5, 938 170.5, 937 170.5, 936 170.5, 935 170.5,...>,\n",
       " <POLYGON ((1702 132.5, 1701 132.5, 1700 132.5, 1699 132.5, 1698 132.5, 1697 ...>,\n",
       " <POLYGON ((1664 160.5, 1663 160.5, 1662 160.5, 1661 160.5, 1660 160.5, 1659 ...>,\n",
       " <POLYGON ((481 165.5, 480 165.5, 479 165.5, 478 165.5, 477 165.5, 476 165.5,...>,\n",
       " <POLYGON ((1628 193.5, 1627 193.5, 1626 193.5, 1625 193.5, 1624 193.5, 1623 ...>,\n",
       " <POLYGON ((231 231.5, 230 231.5, 229 231.5, 228 231.5, 227 231.5, 226 231.5,...>,\n",
       " <POLYGON ((909 267.5, 908 267.5, 907 267.5, 906 267.5, 905 267.5, 904 267.5,...>,\n",
       " <POLYGON ((1272 322.5, 1271 322.5, 1270 322.5, 1269 322.5, 1268 322.5, 1267 ...>,\n",
       " <POLYGON ((1515 322.5, 1514 322.5, 1513 322.5, 1512 322.5, 1511 322.5, 1510 ...>,\n",
       " <POLYGON ((56 259.5, 55 259.5, 54 259.5, 53 259.5, 52 259.5, 51 259.5, 50 25...>,\n",
       " <POLYGON ((39 316.5, 38 316.5, 37 316.5, 36 316.5, 35 316.5, 34 316.5, 33 31...>,\n",
       " <POLYGON ((828 328.5, 827 328.5, 826 328.5, 825 328.5, 824 328.5, 823 328.5,...>,\n",
       " <POLYGON ((1383 484.5, 1382 484.5, 1381 484.5, 1380 484.5, 1379 484.5, 1378 ...>,\n",
       " <POLYGON ((1096 359.5, 1095 359.5, 1094 359.5, 1093 359.5, 1092 359.5, 1091 ...>,\n",
       " <POLYGON ((768 365.5, 767 365.5, 766 365.5, 765 365.5, 764 365.5, 763 365.5,...>,\n",
       " <POLYGON ((933 384.5, 932 384.5, 931 384.5, 930 384.5, 929 384.5, 928 384.5,...>,\n",
       " <POLYGON ((497 406.5, 496 406.5, 495 406.5, 494 406.5, 493 406.5, 492 406.5,...>,\n",
       " <POLYGON ((901 418.5, 900 418.5, 899 418.5, 898 418.5, 897 418.5, 896 418.5,...>,\n",
       " <POLYGON ((969 448.5, 968 448.5, 967 448.5, 966 448.5, 965 448.5, 964 448.5,...>,\n",
       " <POLYGON ((316 405.5, 315 405.5, 314 405.5, 313 405.5, 312 405.5, 311 405.5,...>,\n",
       " <POLYGON ((1278 425.5, 1277 425.5, 1276 425.5, 1275 425.5, 1274 425.5, 1273 ...>,\n",
       " <POLYGON ((1072 483.5, 1071 483.5, 1070 483.5, 1069 483.5, 1068 483.5, 1067 ...>,\n",
       " <POLYGON ((1251 434.5, 1250 434.5, 1249 434.5, 1248 434.5, 1247 434.5, 1246 ...>,\n",
       " <POLYGON ((1255 479.5, 1254 479.5, 1253 479.5, 1252 479.5, 1251 479.5, 1250 ...>,\n",
       " <POLYGON ((916 478.5, 915 478.5, 914 478.5, 913 478.5, 912 478.5, 911 478.5,...>,\n",
       " <POLYGON ((1572 505.5, 1571 505.5, 1570 505.5, 1569 505.5, 1568 505.5, 1567 ...>,\n",
       " <POLYGON ((1656 525.5, 1655 525.5, 1654 525.5, 1653 525.5, 1652 525.5, 1651 ...>,\n",
       " <POLYGON ((1616 594.5, 1615 594.5, 1614 594.5, 1613 594.5, 1612 594.5, 1611 ...>,\n",
       " <POLYGON ((828 728.5, 827 728.5, 826 728.5, 825 728.5, 824 728.5, 823 728.5,...>,\n",
       " <POLYGON ((1655 579.5, 1654 579.5, 1653 579.5, 1652 579.5, 1651 579.5, 1650 ...>,\n",
       " <POLYGON ((1502 577.5, 1501 577.5, 1500 577.5, 1499 577.5, 1498 577.5, 1497 ...>,\n",
       " <POLYGON ((13 594.5, 12 594.5, 11 594.5, 10 594.5, 9 594.5, 8 594.5, 7 594.5...>,\n",
       " <POLYGON ((1293 596.5, 1292 596.5, 1291 596.5, 1290 596.5, 1289 596.5, 1288 ...>,\n",
       " <POLYGON ((1267 678.5, 1266 678.5, 1265 678.5, 1264 678.5, 1263 678.5, 1262 ...>,\n",
       " <POLYGON ((1240 791.5, 1239 791.5, 1238 791.5, 1237 791.5, 1236 791.5, 1235 ...>,\n",
       " <POLYGON ((1390 679.5, 1389 679.5, 1388 679.5, 1387 679.5, 1386 679.5, 1385 ...>,\n",
       " <POLYGON ((269 803.5, 268 803.5, 267 803.5, 266 803.5, 265 803.5, 264 803.5,...>,\n",
       " <POLYGON ((1405 727.5, 1404 727.5, 1403 727.5, 1402 727.5, 1401 727.5, 1400 ...>,\n",
       " <POLYGON ((433 751.5, 432 751.5, 431 751.5, 430 751.5, 429 751.5, 428 751.5,...>,\n",
       " <POLYGON ((1399 747.5, 1398 747.5, 1397 747.5, 1396 747.5, 1395 747.5, 1394 ...>,\n",
       " <POLYGON ((1325 793.5, 1324 793.5, 1323 793.5, 1322 793.5, 1321 793.5, 1320 ...>,\n",
       " <POLYGON ((41 848.5, 40 848.5, 39 848.5, 38 848.5, 37 848.5, 36 848.5, 35 84...>,\n",
       " <POLYGON ((918 844.5, 917 844.5, 916 844.5, 915 844.5, 914 844.5, 913 844.5,...>,\n",
       " <POLYGON ((1422 798.5, 1421 798.5, 1420 798.5, 1419 798.5, 1418 798.5, 1417 ...>,\n",
       " <POLYGON ((1256 807.5, 1255 807.5, 1254 807.5, 1253 807.5, 1252 807.5, 1251 ...>,\n",
       " <POLYGON ((213 965.5, 212 965.5, 211 965.5, 210 965.5, 209 965.5, 208 965.5,...>,\n",
       " <POLYGON ((716 852.5, 715 852.5, 714 852.5, 713 852.5, 712 852.5, 711 852.5,...>,\n",
       " <POLYGON ((53 874.5, 52 874.5, 51 874.5, 50 874.5, 49 874.5, 48 874.5, 47 87...>,\n",
       " <POLYGON ((507 866.5, 506 866.5, 505 866.5, 504 866.5, 503 866.5, 502 866.5,...>,\n",
       " <POLYGON ((1422 880.5, 1421 880.5, 1420 880.5, 1419 880.5, 1418 880.5, 1417 ...>,\n",
       " <POLYGON ((1442 946.5, 1441 946.5, 1440 946.5, 1439 946.5, 1438 946.5, 1437 ...>,\n",
       " <POLYGON ((972 1048.5, 971 1048.5, 970 1048.5, 969 1048.5, 968 1048.5, 967 1...>,\n",
       " <POLYGON ((759 918.5, 758 918.5, 757 918.5, 756 918.5, 755 918.5, 754 918.5,...>,\n",
       " <POLYGON ((35 1021.5, 34 1021.5, 33 1021.5, 32 1021.5, 31 1021.5, 30 1021.5,...>,\n",
       " <POLYGON ((1077 929.5, 1076 929.5, 1075 929.5, 1074 929.5, 1073 929.5, 1072 ...>,\n",
       " <POLYGON ((856 960.5, 855 960.5, 854 960.5, 853 960.5, 852 960.5, 851 960.5,...>,\n",
       " <POLYGON ((1620 961.5, 1619 961.5, 1618 961.5, 1617 961.5, 1616 961.5, 1615 ...>,\n",
       " <POLYGON ((503 977.5, 502 977.5, 501 977.5, 500 977.5, 499 977.5, 498 977.5,...>,\n",
       " <POLYGON ((1652 973.5, 1651 973.5, 1650 973.5, 1649 973.5, 1648 973.5, 1647 ...>,\n",
       " <POLYGON ((467 965.5, 466 965.5, 465 965.5, 464 965.5, 463 965.5, 462 965.5,...>,\n",
       " <POLYGON ((724 985.5, 723 985.5, 722 985.5, 721 985.5, 720 985.5, 719 985.5,...>,\n",
       " <POLYGON ((867 983.5, 866 983.5, 865 983.5, 864 983.5, 863 983.5, 862 983.5,...>,\n",
       " <POLYGON ((1469 1040.5, 1468 1040.5, 1467 1040.5, 1466 1040.5, 1465 1040.5, ...>,\n",
       " <POLYGON ((1118 1025.5, 1117 1025.5, 1116 1025.5, 1115 1025.5, 1114 1025.5, ...>,\n",
       " <POLYGON ((537 1027.5, 536 1027.5, 535 1027.5, 534 1027.5, 533 1027.5, 532 1...>,\n",
       " <POLYGON ((365 1072.5, 364 1072.5, 363 1072.5, 362 1072.5, 361 1072.5, 360 1...>,\n",
       " <POLYGON ((607 1130.5, 606 1130.5, 605 1130.5, 604 1130.5, 603 1130.5, 602 1...>,\n",
       " <POLYGON ((416 1065.5, 415 1065.5, 414 1065.5, 413 1065.5, 412 1065.5, 411 1...>,\n",
       " <POLYGON ((994 1083.5, 993 1083.5, 992 1083.5, 991 1083.5, 990 1083.5, 989 1...>,\n",
       " <POLYGON ((552 1090.5, 551 1090.5, 550 1090.5, 549 1090.5, 548 1090.5, 547 1...>,\n",
       " <POLYGON ((1165 1099.5, 1164 1099.5, 1163 1099.5, 1162 1099.5, 1161 1099.5, ...>,\n",
       " <POLYGON ((681 845.5, 680 845.5, 679 845.5, 678 845.5, 677 845.5, 676 845.5,...>]"
      ]
     },
     "execution_count": 23,
     "metadata": {},
     "output_type": "execute_result"
    }
   ],
   "source": [
    "all_grains"
   ]
  },
  {
   "cell_type": "markdown",
   "id": "52c7ac01",
   "metadata": {},
   "source": [
    "# Marco Filippi's implementation"
   ]
  },
  {
   "cell_type": "code",
   "execution_count": 7,
   "id": "9a13954f",
   "metadata": {},
   "outputs": [
    {
     "name": "stdout",
     "output_type": "stream",
     "text": [
      "terminated, shapefile saved\n"
     ]
    }
   ],
   "source": [
    "# Filtrare e rimuovere i poligoni interrotti dal margine della figura MF\n",
    "\n",
    "image = Image.open(fname) #mi serve per chiamare image.size[0] e image.size[1] MF\n",
    "\n",
    "filtered_grains = []\n",
    "deleted_polygons = []\n",
    "\n",
    "margin = 10  # serve un margine (in pixel), non tutti i granuli sui bordi sono esattamente a 0 - MF\n",
    "\n",
    "for polygon in all_grains:\n",
    "    if all(\n",
    "        margin < vertex[0] < image.width - margin and margin < vertex[1] < image.height - margin\n",
    "        for vertex in polygon.exterior.coords\n",
    "    ):\n",
    "        filtered_grains.append(polygon)\n",
    "    else:\n",
    "        deleted_polygons.append(polygon)\n",
    "\n",
    "        \n",
    "# Creo una maschera da usare escludere i poligoni filtrati anche dalle altre liste (all_grains, labels, mask_all, grain_data, fig, ax, labels, grains, coords)\n",
    "# Per ora ho applicato solo a grain_data\n",
    "\n",
    "mask = [\n",
    "    all(\n",
    "        margin < vertex[0] < image.width - margin and margin < vertex[1] < image.height - margin\n",
    "        for vertex in polygon.exterior.coords\n",
    "    )\n",
    "    for polygon in all_grains\n",
    "]  \n",
    "\n",
    "# Convert the list to a NumPy array before using ~ operator\n",
    "mask = np.array(mask)\n",
    "\n",
    "# Apply the mask to filter the DataFrame\n",
    "filtered_grain_data = grain_data[mask]\n",
    "\n",
    "# Create a DataFrame for deleted polygons\n",
    "deleted_grain_data = grain_data[~mask]\n",
    "\n",
    "\n",
    "# estrae uno shapefile (valutare dove inserire) - MF\n",
    "data = {'geometry': filtered_grains}\n",
    "gdf = gpd.GeoDataFrame(data)\n",
    "output_shapefile = './poligoni.shp'\n",
    "#fiona.supported_drivers  ##MZ\n",
    "gdf.to_file(output_shapefile, driver='ESRI Shapefile')  ##<<=\n",
    "\n",
    "# estrae uno shapefile (valutare dove inserire) - MF\n",
    "data = {'geometry': deleted_polygons}\n",
    "gdf = gpd.GeoDataFrame(data)\n",
    "output_shapefile = './poligoni_deleted.shp'\n",
    "gdf.to_file(output_shapefile, driver='ESRI Shapefile') ##<<=\n",
    "print(\"terminated, shapefile saved\")"
   ]
  },
  {
   "cell_type": "markdown",
   "id": "7c091d4c",
   "metadata": {},
   "source": [
    "Use this figure to check the distribution of SAM prompts (= black dots):"
   ]
  },
  {
   "cell_type": "code",
   "execution_count": 8,
   "id": "e031a13f",
   "metadata": {},
   "outputs": [],
   "source": [
    "plt.figure()\n",
    "plt.imshow(big_im_pred)\n",
    "plt.scatter(coords[:,0], coords[:,1], c='k');"
   ]
  },
  {
   "cell_type": "markdown",
   "id": "968737c4",
   "metadata": {
    "tags": []
   },
   "source": [
    "## Delete or merge grains in segmentation result\n",
    "* click on the grain that you want to remove and press the 'x' key\n",
    "* click on two grains that you want to merge and press the 'm' key (they have to be the last two grains you clicked on)"
   ]
  },
  {
   "cell_type": "code",
   "execution_count": 9,
   "id": "d61bbc8a-a28f-40b8-bb0a-e25047433f25",
   "metadata": {
    "tags": []
   },
   "outputs": [],
   "source": [
    "grain_inds = []\n",
    "cid1 = fig.canvas.mpl_connect('button_press_event', \n",
    "                              lambda event: seg.onclick2(event, all_grains, grain_inds, ax=ax))\n",
    "cid2 = fig.canvas.mpl_connect('key_press_event', \n",
    "                              lambda event: seg.onpress2(event, all_grains, grain_inds, fig=fig, ax=ax))"
   ]
  },
  {
   "cell_type": "markdown",
   "id": "5d08448d",
   "metadata": {},
   "source": [
    "Run this cell if you do not want to delete / merge existing grains anymore; it is a good idea to do this before moving on to the next step."
   ]
  },
  {
   "cell_type": "code",
   "execution_count": null,
   "id": "8b6987ae",
   "metadata": {},
   "outputs": [],
   "source": [
    "fig.canvas.mpl_disconnect(cid1)\n",
    "fig.canvas.mpl_disconnect(cid2)"
   ]
  },
  {
   "cell_type": "markdown",
   "id": "b1ef7d75",
   "metadata": {},
   "source": [
    "Use this function to update the 'all_grains' list after deleting and merging grains:"
   ]
  },
  {
   "cell_type": "code",
   "execution_count": 10,
   "id": "9f7b8082",
   "metadata": {},
   "outputs": [
    {
     "name": "stderr",
     "output_type": "stream",
     "text": [
      "100%|████████████████████████████████████████████████████████████████████████████████████████████████████| 221/221 [00:01<00:00, 137.24it/s]\n"
     ]
    }
   ],
   "source": [
    "all_grains, labels, mask_all, fig, ax = seg.get_grains_from_patches(ax, big_im)"
   ]
  },
  {
   "cell_type": "markdown",
   "id": "36ca344c",
   "metadata": {},
   "source": [
    "Plot the updated set of grains:"
   ]
  },
  {
   "cell_type": "code",
   "execution_count": 11,
   "id": "7e0f7f02",
   "metadata": {},
   "outputs": [],
   "source": [
    "fig, ax = plt.subplots(figsize=(15,10))\n",
    "ax.imshow(big_im)\n",
    "plt.xticks([])\n",
    "plt.yticks([])\n",
    "seg.plot_image_w_colorful_grains(big_im, all_grains, ax, cmap='Paired')\n",
    "seg.plot_grain_axes_and_centroids(all_grains, labels, ax, linewidth=1, markersize=10)\n",
    "plt.xlim([0, np.shape(big_im)[1]])\n",
    "plt.ylim([np.shape(big_im)[0], 0]);"
   ]
  },
  {
   "cell_type": "markdown",
   "id": "ab7201a5",
   "metadata": {},
   "source": [
    "## Add new grains using the Segment Anything Model\n",
    "\n",
    "* click on unsegmented grain that you want to add\n",
    "* press the 'x' key if you want to delete the last grain you added\n",
    "* press the 'm' key if you want to merge the last two grains that you added\n",
    "* right click outside the grain (but inside the most recent mask) if you want to restrict the grain to a smaller mask - this adds a background prompt"
   ]
  },
  {
   "cell_type": "code",
   "execution_count": 12,
   "id": "04b1a138",
   "metadata": {},
   "outputs": [],
   "source": [
    "predictor = SamPredictor(sam)\n",
    "predictor.set_image(big_im) # this can take a while\n",
    "coords = []\n",
    "cid3 = fig.canvas.mpl_connect('button_press_event', lambda event: seg.onclick(event, ax, coords, big_im, predictor))\n",
    "cid4 = fig.canvas.mpl_connect('key_press_event', lambda event: seg.onpress(event, ax, fig))"
   ]
  },
  {
   "cell_type": "code",
   "execution_count": 13,
   "id": "02386a92",
   "metadata": {},
   "outputs": [],
   "source": [
    "fig.canvas.mpl_disconnect(cid3)\n",
    "fig.canvas.mpl_disconnect(cid4)"
   ]
  },
  {
   "cell_type": "markdown",
   "id": "6ae4b89a",
   "metadata": {},
   "source": [
    "After you are done with the deletion / addition of grain masks, run this cell to generate an updated set of grains:"
   ]
  },
  {
   "cell_type": "code",
   "execution_count": 14,
   "id": "4355b526",
   "metadata": {},
   "outputs": [
    {
     "name": "stderr",
     "output_type": "stream",
     "text": [
      "100%|████████████████████████████████████████████████████████████████████████████████████████████████████| 222/222 [00:01<00:00, 143.18it/s]\n"
     ]
    }
   ],
   "source": [
    "all_grains, labels, mask_all, fig, ax = seg.get_grains_from_patches(ax, big_im)"
   ]
  },
  {
   "cell_type": "markdown",
   "id": "768a05d2",
   "metadata": {},
   "source": [
    "## Get grain size distribution"
   ]
  },
  {
   "cell_type": "markdown",
   "id": "96892a89",
   "metadata": {},
   "source": [
    "Run this cell and then click (left mouse button) on one end of the scale bar in the image and click (right mouse button) on the other end of the scale bar:"
   ]
  },
  {
   "cell_type": "code",
   "execution_count": 15,
   "id": "869c6cd4",
   "metadata": {},
   "outputs": [],
   "source": [
    "cid5 = fig.canvas.mpl_connect('button_press_event', lambda event: seg.click_for_scale(event, ax))"
   ]
  },
  {
   "cell_type": "markdown",
   "id": "658e2f0a",
   "metadata": {},
   "source": [
    "Use the length of the scale bar in pixels (it should be printed above) to get the scale of the image (in units / pixel):"
   ]
  },
  {
   "cell_type": "code",
   "execution_count": 16,
   "id": "7893cfb7",
   "metadata": {},
   "outputs": [],
   "source": [
    "n_of_units = 10 # centimeters in the case of 'IMG_5208_image.png'\n",
    "units_per_pixel = n_of_units/492.06 # length of scale bar in pixels"
   ]
  },
  {
   "cell_type": "code",
   "execution_count": 17,
   "id": "b56c5732",
   "metadata": {},
   "outputs": [],
   "source": [
    "props = regionprops_table(labels.astype('int'), intensity_image = big_im, properties =\\\n",
    "        ('label', 'area', 'centroid', 'major_axis_length', 'minor_axis_length', \n",
    "         'orientation', 'perimeter', 'max_intensity', 'mean_intensity', 'min_intensity'))\n",
    "grain_data = pd.DataFrame(props)\n",
    "grain_data['major_axis_length'] = grain_data['major_axis_length'].values*units_per_pixel\n",
    "grain_data['minor_axis_length'] = grain_data['minor_axis_length'].values*units_per_pixel\n",
    "grain_data['perimeter'] = grain_data['perimeter'].values*units_per_pixel\n",
    "grain_data['area'] = grain_data['area'].values*units_per_pixel**2"
   ]
  },
  {
   "cell_type": "code",
   "execution_count": 20,
   "id": "202f5650",
   "metadata": {
    "scrolled": true
   },
   "outputs": [
    {
     "data": {
      "text/html": [
       "<div>\n",
       "<style scoped>\n",
       "    .dataframe tbody tr th:only-of-type {\n",
       "        vertical-align: middle;\n",
       "    }\n",
       "\n",
       "    .dataframe tbody tr th {\n",
       "        vertical-align: top;\n",
       "    }\n",
       "\n",
       "    .dataframe thead th {\n",
       "        text-align: right;\n",
       "    }\n",
       "</style>\n",
       "<table border=\"1\" class=\"dataframe\">\n",
       "  <thead>\n",
       "    <tr style=\"text-align: right;\">\n",
       "      <th></th>\n",
       "      <th>label</th>\n",
       "      <th>area</th>\n",
       "      <th>centroid-0</th>\n",
       "      <th>centroid-1</th>\n",
       "      <th>major_axis_length</th>\n",
       "      <th>minor_axis_length</th>\n",
       "      <th>orientation</th>\n",
       "      <th>perimeter</th>\n",
       "      <th>max_intensity-0</th>\n",
       "      <th>max_intensity-1</th>\n",
       "      <th>max_intensity-2</th>\n",
       "      <th>mean_intensity-0</th>\n",
       "      <th>mean_intensity-1</th>\n",
       "      <th>mean_intensity-2</th>\n",
       "      <th>min_intensity-0</th>\n",
       "      <th>min_intensity-1</th>\n",
       "      <th>min_intensity-2</th>\n",
       "    </tr>\n",
       "  </thead>\n",
       "  <tbody>\n",
       "    <tr>\n",
       "      <th>218</th>\n",
       "      <td>219</td>\n",
       "      <td>0.051214</td>\n",
       "      <td>1077.080645</td>\n",
       "      <td>988.838710</td>\n",
       "      <td>0.291617</td>\n",
       "      <td>0.229720</td>\n",
       "      <td>-0.888165</td>\n",
       "      <td>0.822771</td>\n",
       "      <td>110.0</td>\n",
       "      <td>114.0</td>\n",
       "      <td>108.0</td>\n",
       "      <td>78.717742</td>\n",
       "      <td>76.266129</td>\n",
       "      <td>69.137097</td>\n",
       "      <td>59.0</td>\n",
       "      <td>56.0</td>\n",
       "      <td>47.0</td>\n",
       "    </tr>\n",
       "    <tr>\n",
       "      <th>219</th>\n",
       "      <td>220</td>\n",
       "      <td>0.073929</td>\n",
       "      <td>1082.039106</td>\n",
       "      <td>546.469274</td>\n",
       "      <td>0.349671</td>\n",
       "      <td>0.279318</td>\n",
       "      <td>0.032321</td>\n",
       "      <td>1.004231</td>\n",
       "      <td>149.0</td>\n",
       "      <td>151.0</td>\n",
       "      <td>140.0</td>\n",
       "      <td>80.446927</td>\n",
       "      <td>82.284916</td>\n",
       "      <td>78.458101</td>\n",
       "      <td>31.0</td>\n",
       "      <td>33.0</td>\n",
       "      <td>27.0</td>\n",
       "    </tr>\n",
       "    <tr>\n",
       "      <th>220</th>\n",
       "      <td>221</td>\n",
       "      <td>0.149924</td>\n",
       "      <td>1088.763085</td>\n",
       "      <td>1164.666667</td>\n",
       "      <td>0.553736</td>\n",
       "      <td>0.370265</td>\n",
       "      <td>-1.279775</td>\n",
       "      <td>1.557278</td>\n",
       "      <td>207.0</td>\n",
       "      <td>197.0</td>\n",
       "      <td>185.0</td>\n",
       "      <td>121.426997</td>\n",
       "      <td>117.677686</td>\n",
       "      <td>107.779614</td>\n",
       "      <td>40.0</td>\n",
       "      <td>37.0</td>\n",
       "      <td>39.0</td>\n",
       "    </tr>\n",
       "    <tr>\n",
       "      <th>221</th>\n",
       "      <td>222</td>\n",
       "      <td>9.937096</td>\n",
       "      <td>752.275229</td>\n",
       "      <td>715.514339</td>\n",
       "      <td>3.993311</td>\n",
       "      <td>3.267360</td>\n",
       "      <td>-1.020775</td>\n",
       "      <td>13.089322</td>\n",
       "      <td>203.0</td>\n",
       "      <td>206.0</td>\n",
       "      <td>194.0</td>\n",
       "      <td>62.861139</td>\n",
       "      <td>65.741438</td>\n",
       "      <td>64.905237</td>\n",
       "      <td>9.0</td>\n",
       "      <td>9.0</td>\n",
       "      <td>7.0</td>\n",
       "    </tr>\n",
       "  </tbody>\n",
       "</table>\n",
       "</div>"
      ],
      "text/plain": [
       "     label      area   centroid-0   centroid-1  major_axis_length  \\\n",
       "218    219  0.051214  1077.080645   988.838710           0.291617   \n",
       "219    220  0.073929  1082.039106   546.469274           0.349671   \n",
       "220    221  0.149924  1088.763085  1164.666667           0.553736   \n",
       "221    222  9.937096   752.275229   715.514339           3.993311   \n",
       "\n",
       "     minor_axis_length  orientation  perimeter  max_intensity-0  \\\n",
       "218           0.229720    -0.888165   0.822771            110.0   \n",
       "219           0.279318     0.032321   1.004231            149.0   \n",
       "220           0.370265    -1.279775   1.557278            207.0   \n",
       "221           3.267360    -1.020775  13.089322            203.0   \n",
       "\n",
       "     max_intensity-1  max_intensity-2  mean_intensity-0  mean_intensity-1  \\\n",
       "218            114.0            108.0         78.717742         76.266129   \n",
       "219            151.0            140.0         80.446927         82.284916   \n",
       "220            197.0            185.0        121.426997        117.677686   \n",
       "221            206.0            194.0         62.861139         65.741438   \n",
       "\n",
       "     mean_intensity-2  min_intensity-0  min_intensity-1  min_intensity-2  \n",
       "218         69.137097             59.0             56.0             47.0  \n",
       "219         78.458101             31.0             33.0             27.0  \n",
       "220        107.779614             40.0             37.0             39.0  \n",
       "221         64.905237              9.0              9.0              7.0  "
      ]
     },
     "execution_count": 20,
     "metadata": {},
     "output_type": "execute_result"
    }
   ],
   "source": [
    "grain_data.tail(4)"
   ]
  },
  {
   "cell_type": "code",
   "execution_count": 21,
   "id": "a8663eef",
   "metadata": {},
   "outputs": [],
   "source": [
    "plt.figure()\n",
    "plt.hist(grain_data['major_axis_length'], 25)\n",
    "plt.xlabel('major axis length (cm)')\n",
    "plt.ylabel('count');"
   ]
  },
  {
   "cell_type": "markdown",
   "id": "039415c6",
   "metadata": {},
   "source": [
    "## Save mask and grain labels to PNG files"
   ]
  },
  {
   "cell_type": "code",
   "execution_count": 22,
   "id": "c4962ba6",
   "metadata": {},
   "outputs": [
    {
     "data": {
      "text/plain": [
       "True"
      ]
     },
     "execution_count": 22,
     "metadata": {},
     "output_type": "execute_result"
    }
   ],
   "source": [
    "dirname = '/Users/miki/Library/CloudStorage/OneDrive-UniversitàdegliStudidiMilano/Ricerca/SAM_AI/Segmentation/images/'\n",
    "# write grayscale mask to PNG file\n",
    "cv2.imwrite(dirname + fname.split('/')[-1][:-4] + '_mask.png', mask_all)\n",
    "# Define a colormap using matplotlib\n",
    "num_classes = len(all_grains)\n",
    "cmap = plt.get_cmap('viridis', num_classes)\n",
    "# Map each class label to a unique color using the colormap\n",
    "vis_mask = cmap(labels.astype(np.uint16))[:,:,:3] * 255\n",
    "vis_mask = vis_mask.astype(np.uint8)\n",
    "# Save the mask as a PNG file\n",
    "cv2.imwrite(dirname + fname.split('/')[-1][:-4] + '_labels.png', vis_mask)\n",
    "# Save the image as a PNG file\n",
    "cv2.imwrite(dirname + fname.split('/')[-1][:-4] + '_image.png', cv2.cvtColor(big_im, cv2.COLOR_BGR2RGB))"
   ]
  },
  {
   "cell_type": "code",
   "execution_count": null,
   "id": "0f6b9eb7-8665-479e-a209-3a0f18d5a47a",
   "metadata": {},
   "outputs": [],
   "source": []
  }
 ],
 "metadata": {
  "kernelspec": {
   "display_name": "Python 3 (ipykernel)",
   "language": "python",
   "name": "python3"
  },
  "language_info": {
   "codemirror_mode": {
    "name": "ipython",
    "version": 3
   },
   "file_extension": ".py",
   "mimetype": "text/x-python",
   "name": "python",
   "nbconvert_exporter": "python",
   "pygments_lexer": "ipython3",
   "version": "3.11.5"
  }
 },
 "nbformat": 4,
 "nbformat_minor": 5
}
