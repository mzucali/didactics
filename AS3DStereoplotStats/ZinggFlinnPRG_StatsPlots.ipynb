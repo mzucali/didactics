{
  "nbformat": 4,
  "nbformat_minor": 0,
  "metadata": {
    "colab": {
      "provenance": [],
      "include_colab_link": true
    },
    "kernelspec": {
      "name": "python3",
      "display_name": "Python 3"
    },
    "language_info": {
      "name": "python"
    }
  },
  "cells": [
    {
      "cell_type": "markdown",
      "metadata": {
        "id": "view-in-github",
        "colab_type": "text"
      },
      "source": [
        "<a href=\"https://colab.research.google.com/github/mzucali/didactics/blob/main/AS3DStereoplotStats/ZinggFlinnPRG_StatsPlots.ipynb\" target=\"_parent\"><img src=\"https://colab.research.google.com/assets/colab-badge.svg\" alt=\"Open In Colab\"/></a>"
      ]
    },
    {
      "cell_type": "markdown",
      "source": [
        "*ZINGG FLINN PGR plots of Eigenvalues*\n",
        "- versione 1 @mzucali 9 novembre 2023"
      ],
      "metadata": {
        "id": "O7ds16Sy6rg1"
      }
    },
    {
      "cell_type": "code",
      "source": [
        "import matplotlib\n",
        "print('matplotlib: {}'.format(matplotlib.__version__))\n",
        "import pandas as pd\n",
        "print('pandas: {}'.format(pd.__version__))\n",
        "import math\n",
        "from pandas import read_csv, read_excel\n",
        "from pandas.plotting import scatter_matrix\n",
        "from matplotlib import pyplot as plt\n",
        "import seaborn as sns\n",
        "print('seaborn: {}'.format(sns.__version__))\n",
        "import io"
      ],
      "metadata": {
        "id": "oWtWG0qw5FAV"
      },
      "execution_count": null,
      "outputs": []
    },
    {
      "cell_type": "code",
      "source": [
        "# load DATA FILE\n",
        "from google.colab import files\n",
        "uploaded = files.upload()\n",
        "\n",
        "for fn in uploaded.keys():\n",
        "  print('User uploaded file \"{name}\" with length {length} bytes'.format(\n",
        "      name=fn, length=len(uploaded[fn])))"
      ],
      "metadata": {
        "id": "HODQUkt76KHs"
      },
      "execution_count": null,
      "outputs": []
    },
    {
      "cell_type": "code",
      "source": [
        "pippo = read_excel(fn)"
      ],
      "metadata": {
        "id": "Hkh0ixYf5OjC"
      },
      "execution_count": null,
      "outputs": []
    },
    {
      "cell_type": "code",
      "source": [
        "pippo.head()\n"
      ],
      "metadata": {
        "id": "A_oPk2J66bUw"
      },
      "execution_count": null,
      "outputs": []
    },
    {
      "cell_type": "markdown",
      "source": [
        "FLINN PLOT"
      ],
      "metadata": {
        "id": "DtPIWzOl6i2Z"
      }
    },
    {
      "cell_type": "code",
      "source": [
        "sns.scatterplot(data=pippo, x=\"S2/S3\", y=\"S1/S2\", hue=\"dataset\", marker=\"+\", palette=['blue']).set_title('FLINN PLOT 2023 AS2')\n",
        "##^^^^ QUI DOVETE CAMBIARE LE INTESTAZIONI degli assi x e y^^^^^\n",
        "\n",
        "# control x and y limits\n",
        "plt.ylim(10**0, 10**2)\n",
        "plt.xlim(10**0, 10**2)\n",
        "#plt.ylim(0,30)\n",
        "#plt.xlim(0,30)\n",
        "plt.xscale('log')\n",
        "plt.yscale('log')\n",
        "plt.show()"
      ],
      "metadata": {
        "id": "0PUbbwAu6dmx"
      },
      "execution_count": null,
      "outputs": []
    },
    {
      "cell_type": "markdown",
      "source": [
        "ZINGG PLOT"
      ],
      "metadata": {
        "id": "on2WFoXy7UhB"
      }
    },
    {
      "cell_type": "code",
      "source": [
        "sns.scatterplot(data=pippo, x=\"S3/S2\", y=\"S2/S1\", hue=\"dataset\", marker=\"X\", palette=['blue']).set_title('ZINGG PLOT')\n",
        "##^^^^ QUI DOVETE CAMBIARE LE INTESTAZIONI degli assi x e y^^^^^\n",
        "\n",
        "# control x and y limits\n",
        "plt.ylim(0, 1)\n",
        "plt.xlim(0, 1)\n",
        "#plt.set_yticks(range(len(data)-5))\n",
        "#plt.xscale('log')\n",
        "#plt.yscale('log')\n",
        "# specify positions of ticks on x-axis and y-axis\n",
        "plt.xticks([0, 0.33, 0.66, 1], ['0', '1/3', '2/3', '3/3'])\n",
        "plt.yticks([0, 0.33, 0.66, 1], ['0', '1/3', '2/3', '3/3'])\n",
        "plt.show()"
      ],
      "metadata": {
        "id": "cEm0Ay_d6mHd"
      },
      "execution_count": null,
      "outputs": []
    },
    {
      "cell_type": "markdown",
      "source": [
        "PGR VOLLMER PLOT"
      ],
      "metadata": {
        "id": "w2Q1W-PO-WKp"
      }
    },
    {
      "cell_type": "code",
      "source": [
        "import plotly.express as px"
      ],
      "metadata": {
        "id": "pBQydMnV7enh"
      },
      "execution_count": null,
      "outputs": []
    },
    {
      "cell_type": "code",
      "source": [
        "fig = px.scatter_ternary(pippo, a=\"P (S1-S2)\", b=\"G (2*(S2-S3))\", c=\"R (3*S3)\", color=\"dataset\")\n",
        "##^^^^ QUI DOVETE CAMBIARE LE INTESTAZIONI dei vertici a,b,c^^^^^\n",
        "fig.show()"
      ],
      "metadata": {
        "id": "-oP3rcjB-rpB"
      },
      "execution_count": null,
      "outputs": []
    },
    {
      "cell_type": "code",
      "source": [],
      "metadata": {
        "id": "oDBOpV2i-6hM"
      },
      "execution_count": null,
      "outputs": []
    }
  ]
}