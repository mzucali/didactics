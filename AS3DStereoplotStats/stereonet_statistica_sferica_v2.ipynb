{
  "cells": [
    {
      "cell_type": "markdown",
      "metadata": {
        "id": "view-in-github",
        "colab_type": "text"
      },
      "source": [
        "<a href=\"https://colab.research.google.com/github/mzucali/didactics/blob/main/AS3D/stereonet_statistica_sferica_v2.ipynb\" target=\"_parent\"><img src=\"https://colab.research.google.com/assets/colab-badge.svg\" alt=\"Open In Colab\"/></a>"
      ]
    },
    {
      "cell_type": "code",
      "execution_count": null,
      "id": "96c4a0e5",
      "metadata": {
        "id": "96c4a0e5"
      },
      "outputs": [],
      "source": [
        "%pip install mplstereonet\n",
        "%pip install seaborn"
      ]
    },
    {
      "cell_type": "code",
      "execution_count": null,
      "id": "3c873dfb",
      "metadata": {
        "id": "3c873dfb"
      },
      "outputs": [],
      "source": [
        "import pandas as pd\n",
        "import numpy as np\n",
        "import mplstereonet as mpl\n",
        "import matplotlib.pyplot as plt\n",
        "import seaborn as sns"
      ]
    },
    {
      "cell_type": "code",
      "execution_count": null,
      "id": "0ac150bb",
      "metadata": {
        "id": "0ac150bb"
      },
      "outputs": [],
      "source": [
        "## ACCESSO DATI e calcolo poli dei piani\n",
        "\n",
        "# Caricamento del file Excel\n",
        "file_path = \"dati_Eifel1_tot.xlsx\"  # Modifica con il percorso corretto del tuo file\n",
        "df_all = pd.read_excel(file_path)\n",
        "\n",
        "#Seleziona solo i dati relativi a una struttura specifica (modifica manualmente \"Ss\" o \"S1\")\n",
        "cronologia_selezionata = 'Ss'\n",
        "df = df_all[df_all['cronologia'] == cronologia_selezionata]\n",
        "print(df.shape)\n",
        "numero_dat = df.shape[0]\n",
        "print(df.tail(5))\n",
        "print(f\"Numero di dati per la cronologia {cronologia_selezionata}: {numero_dat}\")\n",
        "print(len(df))\n",
        "# Estrazione delle colonne\n",
        "immersione = df[\"immersione\"]\n",
        "inclinazione = df[\"inclinazione\"]\n",
        "\n",
        "df[\"strike_RHR\"] = np.nan  # Inizializza la colonna strike_RHR con NaN\n",
        "\n",
        "#df.loc[df[\"Kinematic\"] == \"N\", \"Raki\"] = -df[\"Rake_RHR\"]\n",
        "\n",
        "df.loc[df[\"immersione\"] >90 , \"strike_RHR\"] = df[\"immersione\"]-90\n",
        "df.loc[df[\"immersione\"] <=90 , \"strike_RHR\"] = df[\"immersione\"]+270\n",
        "\n",
        "strike_RHR = df[\"strike_RHR\"]\n",
        "\n",
        "\n",
        "results_df_dati = pd.DataFrame({\n",
        "    \"cronologia\": [cronologia_selezionata],\n",
        "    \"numero_dati\": [numero_dat]\n",
        "})\n",
        "\n",
        "#if immersione >= 90:\n",
        "#    strike_RHR = immersione -90\n",
        "#else:\n",
        "#    strike_RHR =  immersione + 270\n",
        "\n",
        "#strike_RHR\n",
        "\n",
        "# Calcola i poli dei piani e li traccia\n",
        "#poli_trend, poli_plunge = mpl.pole(immersione, inclinazione)\n",
        "\n",
        "#fig = plt.figure()\n",
        "#ax = fig.add_subplot(111, projection='stereonet')\n",
        "#ax.line(poli_trend, poli_plunge, color=\"black\", markersize=2)\n",
        "#ax.pole(immersione, inclinazione, 'ro', label=\"Poli\")\n",
        "#ax.plane(immersione, inclinazione, 'ro', label=\"Poli\")"
      ]
    },
    {
      "cell_type": "code",
      "execution_count": null,
      "id": "a0a64591",
      "metadata": {
        "id": "a0a64591"
      },
      "outputs": [],
      "source": [
        "\n",
        "\n",
        "# Caricamento del file Excel\n",
        "# file_path = \"ProiezioniStereografiche.xlsx\"  # Modifica con il percorso corretto del tuo file\n",
        "# df = pd.read_excel(file_path)\n",
        "\n",
        "# # Estrazione delle colonne\n",
        "# immersione = df[\"immersione\"]\n",
        "# inclinazione = df[\"inclinazione\"]\n",
        "\n",
        "# Creazione della figura stereografica\n",
        "fig, ax = plt.subplots(figsize=(6, 6), subplot_kw=dict(projection='stereonet'))\n",
        "\n",
        "# Traccia le proiezioni ciclografiche dei piani\n",
        "ax.plane(strike_RHR, inclinazione, 'b', label=\"Piani\")\n",
        "\n",
        "# # Calcola i poli dei piani e li traccia\n",
        "# poli_trend, poli_plunge = mpl.pole(immersione, inclinazione)\n",
        "# ax.pole(immersione, inclinazione, 'ro', label=\"Poli\")\n",
        "\n",
        "# Aggiunta della legenda e del titolo\n",
        "#ax.legend()\n",
        "ax.set_title(\"Proiezione stereografica ciclografica\")\n",
        "\n",
        "# Mostra il grafico\n",
        "plt.show()\n"
      ]
    },
    {
      "cell_type": "code",
      "execution_count": null,
      "id": "c15a2c76",
      "metadata": {
        "id": "c15a2c76"
      },
      "outputs": [],
      "source": [
        "#print(poli_trend)\n",
        "#print(immersione)"
      ]
    },
    {
      "cell_type": "code",
      "execution_count": null,
      "id": "23a77b84",
      "metadata": {
        "id": "23a77b84"
      },
      "outputs": [],
      "source": [
        "#FISHER#\n",
        "\n",
        "fig = plt.figure()\n",
        "ax = fig.add_subplot(111, projection='stereonet')\n",
        "# ax.line(poli_trend, poli_plunge, color=\"black\", markersize=2)\n",
        "\n",
        "# # Caricamento del file Excel\n",
        "# file_path = \"ProiezioniStereografiche.xlsx\"  # Modifica con il percorso corretto del tuo file\n",
        "# df = pd.read_excel(file_path)\n",
        "\n",
        "# # Estrazione delle colonne\n",
        "# immersione = df[\"immersione\"]\n",
        "# inclinazione = df[\"inclinazione\"]\n",
        "\n",
        "# # Calcola i poli dei piani e li traccia\n",
        "# poli_trend, poli_plunge = mpl.pole(immersione, inclinazione)\n",
        "ax.pole(strike_RHR, inclinazione, 'ro', label=\"S1 Poli\")\n",
        "\n",
        "\n"
      ]
    },
    {
      "cell_type": "code",
      "execution_count": null,
      "id": "8371df35",
      "metadata": {
        "id": "8371df35"
      },
      "outputs": [],
      "source": [
        "##FISHER STATISTICS\n",
        "fig = plt.figure()\n",
        "ax = fig.add_subplot(111, projection='stereonet')\n",
        "ax.pole(strike_RHR, inclinazione, 'ro', label=\"S1 Poli\")\n",
        "confidence = 95\n",
        "vector, stats = mpl.find_fisher_stats( inclinazione, strike_RHR, conf=confidence)\n",
        "print(\"vector:\", vector)\n",
        "print(stats)\n",
        "\n",
        "ax.line(vector[0], vector[1], color=\"black\", label=\"fisher\")\n",
        "ax.cone(vector[0], vector[1], stats[1], facecolor=\"None\", edgecolor=\"black\")\n",
        "\n",
        "print(vector) #plunge, trend\n",
        "print(stats) #r, confidence, k\n",
        "print(\"valore di R: \",stats[0])\n",
        "\n",
        "### SALVARE DATI SU DATAFRAME (PANDAS) una linea per dataset con LABEL\n",
        "results_df_Fisher = pd.DataFrame({\n",
        "    \"FisherPlunge\": [vector[0]],\n",
        "    \"FisherTrend\": [vector[1]],\n",
        "    \"R\": [stats[0]],\n",
        "    \"Confidence\": [stats[1]],\n",
        "    \"K\": [stats[2]]\n",
        "})\n",
        "\n",
        "\n",
        "\n",
        "plt.show()\n",
        "print(results_df_Fisher)"
      ]
    },
    {
      "cell_type": "code",
      "execution_count": null,
      "id": "c524e38e",
      "metadata": {
        "id": "c524e38e"
      },
      "outputs": [],
      "source": [
        "# # ==================\n",
        "# # Calcolo Statistica\n",
        "# # ==================\n",
        "\n",
        "# #Conversione in coordinate cartesiane dei poli (unit vectors)\n",
        "# trend = np.radians(inclinazione)\n",
        "# plunge = np.radians(immersione)\n",
        "\n",
        "# #Calcolo versori dei poli\n",
        "# y = np.cos(plunge) * np.sin(trend)\n",
        "# x = np.cos(plunge) * np.cos(trend)\n",
        "# z = np.sin(plunge)\n",
        "\n",
        "# #Matrice Nx3 dei versori\n",
        "# vectors = np.column_stack((x, y, z))\n",
        "\n",
        "# #Somma vettoriale e modulo\n",
        "# R_vector = np.sum(vectors, axis=0)\n",
        "# R = np.linalg.norm(R_vector)\n",
        "\n",
        "# #Versore medio\n",
        "# mean_direction = R_vector / R\n",
        "\n",
        "# #Numero di dati\n",
        "# N = len(vectors)\n",
        "# R_bar = R / N\n",
        "\n",
        "# #Calcolo di kappa (approssimazione di Fisher)\n",
        "# if R_bar < 0.9:\n",
        "#     kappa = (R_bar * (3 - R_bar**2)) / (1 - R_bar**2)\n",
        "# else:\n",
        "#     kappa = 1 / (1 - R_bar)\n",
        "\n",
        "# # conversione in immerione e inclinazione\n",
        "# plunge = np.degrees(np.arcsin(mean_direction[2]))\n",
        "# trend = np.degrees(np.arctan2(mean_direction[1], mean_direction[0]))\n",
        "# #mean_plunge = np.degrees(np.arctan2(mean_direction[2], np.sqrt(mean_direction[0]**2 + mean_direction[1]**2)))\n",
        "# #mean_trend = np.degrees(np.arctan2(mean_direction[1], mean_direction[0]))\n",
        "# #Stampa risultati\n",
        "# print(\"\\n=== Statistica Sferica (Distribuzione di Fisher) ===\")\n",
        "# print(f\"Numero di dati (N): {N}\")\n",
        "# print(f\"Media direzionale (versore): {mean_direction}\")\n",
        "# print(f\"Media direzionale trend/plunge): {plunge, trend}\")\n",
        "# print(f\"Modulo della somma dei vettori (R): {R:.3f}\")\n",
        "# print(f\"Valore medio R_bar: {R_bar:.3f}\")\n",
        "# print(f\"Parametro di concentrazione (kappa): {kappa:.3f}\")\n"
      ]
    },
    {
      "cell_type": "code",
      "execution_count": null,
      "id": "882cb482",
      "metadata": {
        "id": "882cb482"
      },
      "outputs": [],
      "source": [
        "#GIRDLE#\n",
        "\n",
        "fig = plt.figure()\n",
        "ax = fig.add_subplot(111, projection='stereonet')\n",
        "\n",
        "ax.pole(strike_RHR, inclinazione, 'ro', label=\"Poli\")\n",
        "\n",
        "\n",
        "plu, azi, vals = mpl.eigenvectors(strike_RHR, inclinazione)\n",
        "print(plu)\n",
        "print(azi)\n",
        "print(vals)\n",
        "\n",
        "\n",
        "ax.line(plu[0], azi[0], color=\"yellow\", label=\"e1\")\n",
        "ax.line(plu[1], azi[1], color=\"green\", label=\"e2\")\n",
        "ax.line(plu[2], azi[2], color=\"blue\", label=\"e3\")\n",
        "\n",
        "fit_Strike_RHR, fit_inclinazione = mpl.fit_girdle(strike_RHR, inclinazione)\n",
        "ax.plane(fit_Strike_RHR, fit_inclinazione, color='black', lw=1)\n",
        "\n",
        "# #Calcolo per Flinn\n",
        "# assex_Flinn=vals[1]/vals[2]\n",
        "# assey_Flinn=vals[0]/vals[1]\n",
        "\n",
        "# ##Calcolo per Zingg\n",
        "# assex_Zingg=vals[2]/vals[1]\n",
        "# assey_Zingg=vals[0]/vals[0]\n",
        "\n",
        "#ax.density_contour(strike_RHR, inclinazione, bins=10, cmap='viridis', sigma= 1.5,alpha=.5)\n",
        "results_df_Bingham = pd.DataFrame({\n",
        "    \"BingBestFitPlunge\": fit_inclinazione,\n",
        "    \"BingBestFitTrend\": fit_Strike_RHR,\n",
        "    \"v1_tren\"  : azi[0],\n",
        "    \"v1_plung\" : plu[0],\n",
        "    \"v2_tren\"  : azi[1],\n",
        "    \"v2_plung\" : plu[1],\n",
        "    \"v3_tren\"  : azi[2],\n",
        "    \"v3_plung\" : plu[2],\n",
        "    \"e1_val\"  : vals[0],\n",
        "    \"e2_val\"  : vals[1],\n",
        "    \"e3_val\"  : vals[2],\n",
        "    }, index=[0])\n",
        "\n",
        "#Calcolo per Flinn\n",
        "# assex_Flinn=vals[1]/vals[2]\n",
        "# assey_Flinn=vals[0]/vals[1]\n",
        "\n",
        "# # ##Calcolo per Zingg\n",
        "# assex_Zingg=vals[2]/vals[1]\n",
        "# assey_Zingg=vals[0]/vals[0]\n",
        "\n",
        "# results_df_Bingham = pd.DataFrame({\n",
        "#     \"assex_Flinn\" : assex_Flinn\n",
        "#     \"assey_Flinn\" : assey_Flinn\n",
        "#     \"assex_Zingg\" : assex_Zingg\n",
        "#     \"assey_Zingg\" : assey_Zingg\n",
        "# }, index=[0])\n",
        "\n",
        "print(results_df_Bingham)\n"
      ]
    },
    {
      "cell_type": "code",
      "execution_count": null,
      "id": "496a73e5",
      "metadata": {
        "id": "496a73e5"
      },
      "outputs": [],
      "source": [
        "#KMEANS#\n",
        "# fig = plt.figure()\n",
        "# ax = fig.add_subplot(111, projection='stereonet')\n",
        "# ax.line(poli_trend, poli_plunge, color=\"black\", markersize=1)\n",
        "\n",
        "# # Caricamento del file Excel\n",
        "# file_path = \"ProiezioniStereografiche.xlsx\"  # Modifica con il percorso corretto del tuo file\n",
        "# df = pd.read_excel(file_path)\n",
        "\n",
        "# # Estrazione delle colonne\n",
        "# immersione = df[\"immersione\"]\n",
        "# inclinazione = df[\"inclinazione\"]\n",
        "\n",
        "# # Calcola i poli dei piani e li traccia\n",
        "# poli_trend, poli_plunge = mpl.pole(immersione, inclinazione)\n",
        "# ax.pole(immersione, inclinazione, 'ro', label=\"Poli\")\n",
        "\n",
        "fig = plt.figure()\n",
        "ax = fig.add_subplot(111, projection='stereonet')\n",
        "#ax.line(inclinazione, strike_RHR, color=\"black\", markersize=2)\n",
        "ax.pole(strike_RHR, inclinazione, 'ro', label=\"Poli\")\n",
        "\n",
        "centers=mpl.kmeans(strike_RHR,inclinazione,num=2)\n",
        "Strike_RHR_cent, inclinazione_cent = mpl.geographic2pole(*zip(*centers))\n",
        "ax.pole(Strike_RHR_cent, inclinazione_cent, 'go', ms=12)\n",
        "\n",
        "for (x0, y0) in centers:\n",
        "    s, d = mpl.geographic2pole(x0, y0)\n",
        "    x, y = mpl.pole(s, d) # Otherwise, we may get the antipode\n",
        "\n",
        "    if x > 0:\n",
        "        kwargs = dict(xytext=(40, -40), ha='left')\n",
        "    else:\n",
        "        kwargs = dict(xytext=(-40, 40), ha='right')\n",
        "\n",
        "    ax.annotate('{:03.0f}/{:03.0f}'.format(s[0], d[0]), xy=(x, y),\n",
        "                xycoords='data', textcoords='offset points',\n",
        "                arrowprops=dict(arrowstyle='->', connectionstyle='angle3'),\n",
        "                **kwargs)\n",
        "\n",
        "plt.show()\n",
        "\n",
        "results_df_KMeans = pd.DataFrame({\n",
        "    \"KMeansPlunge1\": inclinazione_cent[0],\n",
        "    \"KMeansTrend1\": Strike_RHR_cent[0],\n",
        "    \"KMeansPlunge2\": inclinazione_cent[1],\n",
        "    \"KMeansTrend2\": Strike_RHR_cent[1]\n",
        "}, index=[0])\n"
      ]
    },
    {
      "cell_type": "code",
      "execution_count": null,
      "id": "3e71c484",
      "metadata": {
        "id": "3e71c484"
      },
      "outputs": [],
      "source": [
        "#Calcolo per Flinn\n",
        "assex_Flinn=vals[1]/vals[2]\n",
        "assey_Flinn=vals[0]/vals[1]\n",
        "\n",
        "##Calcolo per Zingg\n",
        "assex_Zingg=vals[2]/vals[1]\n",
        "assey_Zingg=vals[0]/vals[0]\n",
        "\n",
        "Results_Flinn_Zingg=pd.DataFrame({\n",
        "    \"assex_Flinn\" : assex_Flinn,\n",
        "    \"assey_Flinn\" : assey_Flinn,\n",
        "    \"assex_Zingg\" : assex_Zingg,\n",
        "    \"assey_Zingg\" : assey_Zingg\n",
        "}, index=[0])\n"
      ]
    },
    {
      "cell_type": "code",
      "execution_count": null,
      "id": "60c8ba9b",
      "metadata": {
        "id": "60c8ba9b"
      },
      "outputs": [],
      "source": [
        "#FLINN PLOT\n",
        "sns.scatterplot(data=results_df_dati, x=assex_Flinn, y=assey_Flinn, hue=\"cronologia\", marker=\"+\", palette=['blue']).set_title('FLINN PLOT 2025 AS2')\n",
        "##^^^^ QUI DOVETE CAMBIARE LE INTESTAZIONI degli assi x e y^^^^^\n",
        "\n",
        "# control x and y limits\n",
        "plt.ylim(10**0, 10**2)\n",
        "plt.xlim(10**0, 10**2)\n",
        "#plt.ylim(0,30)\n",
        "#plt.xlim(0,30)\n",
        "plt.xscale('log')\n",
        "plt.yscale('log')\n",
        "plt.show()\n"
      ]
    },
    {
      "cell_type": "code",
      "execution_count": null,
      "id": "7ffaa5eb",
      "metadata": {
        "id": "7ffaa5eb"
      },
      "outputs": [],
      "source": [
        "#ZINGG PLOT\n",
        "\n",
        "sns.scatterplot(data=results_df_dati, x=assex_Zingg, y=assey_Zingg, hue=\"cronologia\", marker=\"X\", palette=['blue']).set_title('ZINGG PLOT')\n",
        "##^^^^ QUI DOVETE CAMBIARE LE INTESTAZIONI degli assi x e y^^^^^\n",
        "\n",
        "# control x and y limits\n",
        "plt.ylim(0, 1)\n",
        "plt.xlim(0, 1)\n",
        "#plt.set_yticks(range(len(data)-5))\n",
        "#plt.xscale('log')\n",
        "#plt.yscale('log')\n",
        "# specify positions of ticks on x-axis and y-axis\n",
        "plt.xticks([0, 0.33, 0.66, 1], ['0', '1/3', '2/3', '3/3'])\n",
        "plt.yticks([0, 0.33, 0.66, 1], ['0', '1/3', '2/3', '3/3'])"
      ]
    },
    {
      "cell_type": "code",
      "execution_count": null,
      "id": "9bdc078a",
      "metadata": {
        "id": "9bdc078a"
      },
      "outputs": [],
      "source": [
        "#PRG TRANGULAR PLOT VOLLMER\n",
        "import plotly.express as px\n",
        "\n",
        "R_RPG = 3*results_df_Bingham[\"e3_val\"]\n",
        "G_RPG = 2*(results_df_Bingham[\"e2_val\"]-results_df_Bingham[\"e3_val\"])\n",
        "P_RPG = results_df_Bingham[\"e1_val\"]-results_df_Bingham[\"e2_val\"]\n",
        "\n",
        "\n",
        "fig = px.scatter_ternary(results_df_dati, a=P_RPG, b=G_RPG, c=R_RPG, color=\"cronologia\",\n",
        "                        labels={'a': 'P', 'b': 'G', 'c': 'R'},\n",
        "                        title='PRG Ternary Plot',\n",
        "                        color_discrete_sequence=['blue'])\n",
        "\n",
        "results_df_PRG=pd.DataFrame({\n",
        "    \"R_RPG\" : R_RPG,\n",
        "    \"G_RPG\" : G_RPG,\n",
        "    \"P_RPG\" : P_RPG,\n",
        "})\n",
        "\n",
        "fig.show()\n",
        "\n"
      ]
    },
    {
      "cell_type": "code",
      "execution_count": null,
      "id": "e8d5bcec",
      "metadata": {
        "id": "e8d5bcec"
      },
      "outputs": [],
      "source": [
        "results_df = pd.DataFrame\n",
        "results_df = pd.concat([results_df_Fisher,results_df_Bingham,results_df_KMeans,Results_Flinn_Zingg,results_df_PRG], axis=1)\n",
        "results_df.to_excel(f\"Results_{cronologia_selezionata}.xlsx\", index=False)\n",
        "\n",
        "print(results_df)\n",
        "\n",
        "Risultati = pd.read_excel(f\"Results_{cronologia_selezionata}.xlsx\")\n",
        "\n",
        "Risultati.head()"
      ]
    },
    {
      "cell_type": "code",
      "execution_count": null,
      "id": "dd8e640e",
      "metadata": {
        "id": "dd8e640e"
      },
      "outputs": [],
      "source": []
    }
  ],
  "metadata": {
    "kernelspec": {
      "display_name": "Python 3",
      "language": "python",
      "name": "python3"
    },
    "language_info": {
      "codemirror_mode": {
        "name": "ipython",
        "version": 3
      },
      "file_extension": ".py",
      "mimetype": "text/x-python",
      "name": "python",
      "nbconvert_exporter": "python",
      "pygments_lexer": "ipython3",
      "version": "3.10.9"
    },
    "colab": {
      "provenance": [],
      "include_colab_link": true
    }
  },
  "nbformat": 4,
  "nbformat_minor": 5
}