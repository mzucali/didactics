{
  "cells": [
    {
      "cell_type": "markdown",
      "metadata": {
        "id": "view-in-github",
        "colab_type": "text"
      },
      "source": [
        "<a href=\"https://colab.research.google.com/github/mzucali/didactics/blob/main/AS3DFaultAnalysis/conversioneRake_rhr_aki_v1.ipynb\" target=\"_parent\"><img src=\"https://colab.research.google.com/assets/colab-badge.svg\" alt=\"Open In Colab\"/></a>"
      ]
    },
    {
      "cell_type": "code",
      "execution_count": null,
      "metadata": {
        "id": "_7GBmxcXYrSW"
      },
      "outputs": [],
      "source": [
        "import pandas as pd\n",
        "import numpy as np"
      ]
    },
    {
      "cell_type": "code",
      "execution_count": null,
      "metadata": {
        "id": "odNCXBKkYrSX"
      },
      "outputs": [],
      "source": [
        "input_excel = 'dati_faglie_RHR.xlsx'\n",
        "df = pd.read_excel(input_excel)"
      ]
    },
    {
      "cell_type": "code",
      "execution_count": null,
      "metadata": {
        "id": "NYEDvg7ZYrSX"
      },
      "outputs": [],
      "source": [
        "print(df)"
      ]
    },
    {
      "cell_type": "code",
      "execution_count": null,
      "metadata": {
        "id": "0j8paIM5YrSY"
      },
      "outputs": [],
      "source": [
        "def convertRake_RhR_2_Aki(input_excel, output_file):\n",
        "    # Leggi il file Excel\n",
        "    df = pd.read_excel(input_excel)\n",
        "\n",
        "    # Applicare la formula a Raki basandosi su Kinematic e Rake_RHR\n",
        "    df[\"Raki\"] = df[\"Rake_RHR\"]  # Copia iniziale della colonna\n",
        "    df.loc[df[\"Kinematic\"] == \"N\", \"Raki\"] = -df[\"Rake_RHR\"]\n",
        "    df.loc[df[\"Kinematic\"] == \"T\", \"Raki\"] = 180 - df[\"Rake_RHR\"]\n",
        "    df.loc[df[\"Kinematic\"] == \"unkn\", \"Raki\"] = df[\"Rake_RHR\"]\n",
        "    df.loc[df[\"Kinematic\"] == \"\", \"Raki\"] = df[\"Rake_RHR\"]\n",
        "  #  df.insert(0,'Id',1)\n",
        "    df.insert(0, 'Id', range(100, 100 + len(df)))\n",
        "    df.insert(1,'Format', 24)\n",
        "    df.insert(2, 'Type',1)\n",
        "    df.insert(3, \"vuota1\", None)\n",
        "    df.insert(4, \"vuota2\", None)\n",
        "    df.insert(5, \"Level\", \"C\")\n",
        "    df.insert(6, \"Factor\", 2.0)\n",
        "    df.insert(7, \"Type1\", 1)\n",
        "    df.insert(7, \"Intens.\", 1)\n",
        "    df.insert(7, \"Input\", 1.0)\n",
        "    #column_names = [\"Id\", \"Format\", \"Type\",\"Dip-Dir\", \"Dip\", \"Rake\"]\n",
        "\n",
        "    #df = df.reindex(columns=column_names)\n",
        "    df = df.rename(columns={\"Raki\":\"Rake\"})\n",
        "    #df.rename(columns={'$a': 'a', '$b': 'b', '$c': 'c', '$d': 'd', '$e': 'e'}, inplace=True)\n",
        "\n",
        "    df = df[[\"Id\", \"Format\",\"Type\",\"Dip-Dir\", \"Dip\", \"Rake\", \"vuota1\", \"vuota2\", \"Level\", \"Factor\", \"Type1\", \"Intens.\", \"Input\"]]\n",
        "    print(df)\n",
        "    df.to_excel(output_file, index=False)\n",
        "\n",
        "    print(f\"Conversione completata! File salvato come: {output_file}\")\n",
        "\n"
      ]
    },
    {
      "cell_type": "code",
      "execution_count": null,
      "metadata": {
        "id": "9oaq4TB6YrSY"
      },
      "outputs": [],
      "source": [
        "# Esempio di utilizzo (modifica il nome del file Excel con quello corretto)\n",
        "#input_file = \"dati_faglie_RHR.xlsx\"  # Nome del file Excel in input\n",
        "output_file = \"output_Raki.xlsx\"  # Nome del file in formato WTD\n",
        "convertRake_RhR_2_Aki(input_excel, output_file)"
      ]
    },
    {
      "cell_type": "code",
      "execution_count": null,
      "metadata": {
        "id": "KZMFnq8AYrSZ"
      },
      "outputs": [],
      "source": [
        "import openpyxl\n",
        "import xlwt\n",
        "\n",
        "def convert_xlsx_to_xls(xlsx_path, xls_path):\n",
        "    # Carica il file xlsx\n",
        "    wb_xlsx = openpyxl.load_workbook(xlsx_path)\n",
        "    sheet_xlsx = wb_xlsx.active\n",
        "\n",
        "    # Crea il nuovo file xls\n",
        "    wb_xls = xlwt.Workbook()\n",
        "    sheet_xls = wb_xls.add_sheet('Sheet1')\n",
        "\n",
        "    # Copia i dati\n",
        "    for row_idx, row in enumerate(sheet_xlsx.iter_rows()):\n",
        "        for col_idx, cell in enumerate(row):\n",
        "            sheet_xls.write(row_idx, col_idx, cell.value)\n",
        "\n",
        "    # Salva il file xls\n",
        "    wb_xls.save(xls_path)\n",
        "\n",
        "# Esempio d'uso\n",
        "convert_xlsx_to_xls(f\"{output_file}\", \"output_Raki.xls\")\n",
        "\n",
        "# f\"{output_file}\" è un modo per indicare il file output della stringa sopra senza scrivere a mano il nome\n"
      ]
    },
    {
      "cell_type": "markdown",
      "metadata": {
        "id": "oJ_4fbjWYrSZ"
      },
      "source": [
        "approccio 2"
      ]
    },
    {
      "cell_type": "code",
      "execution_count": null,
      "metadata": {
        "id": "8aYoe_4-YrSZ"
      },
      "outputs": [],
      "source": [
        "file_path = 'dati_faglie_RHR.xlsx'\n",
        "sheet = pd.read_excel(file_path, engine='openpyxl')\n",
        "\n",
        "print(sheet)\n"
      ]
    },
    {
      "cell_type": "code",
      "execution_count": null,
      "metadata": {
        "id": "xHhBd8IrYrSZ"
      },
      "outputs": [],
      "source": [
        "#  sheet['Raki'] = sheet.apply(lambda row: -row['Rake_RHR'] if row['Kinematic'] == 'N' else 180 - row['Rake_RHR'], axis=1)\n",
        "\n",
        "sheet['Raki'] = sheet.apply(lambda row: row['Rrhr'] if row['Kinematic'] == 'unkn' else (-row['Rrhr'] if row['Kinematic'] == 'N' else 180 - row['Rrhr']), axis=1)\n",
        "\n",
        "\n",
        "output_path = 'conversione_con_Raki.xlsx'\n",
        "sheet.to_excel(output_path, index=False)"
      ]
    },
    {
      "cell_type": "code",
      "execution_count": null,
      "metadata": {
        "id": "NDh3HfnBYrSa"
      },
      "outputs": [],
      "source": [
        "df.to_xarray()"
      ]
    },
    {
      "cell_type": "code",
      "execution_count": null,
      "metadata": {
        "id": "gYUtoaWmYrSa"
      },
      "outputs": [],
      "source": []
    }
  ],
  "metadata": {
    "kernelspec": {
      "display_name": "Python 3",
      "language": "python",
      "name": "python3"
    },
    "language_info": {
      "codemirror_mode": {
        "name": "ipython",
        "version": 3
      },
      "file_extension": ".py",
      "mimetype": "text/x-python",
      "name": "python",
      "nbconvert_exporter": "python",
      "pygments_lexer": "ipython3",
      "version": "3.10.9"
    },
    "colab": {
      "provenance": [],
      "include_colab_link": true
    }
  },
  "nbformat": 4,
  "nbformat_minor": 0
}