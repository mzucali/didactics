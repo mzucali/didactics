{
 "cells": [
  {
   "cell_type": "code",
   "execution_count": null,
   "id": "daf4b5fc",
   "metadata": {},
   "outputs": [],
   "source": [
    "!pip install apsg"
   ]
  },
  {
   "cell_type": "code",
   "execution_count": null,
   "id": "41815289",
   "metadata": {},
   "outputs": [],
   "source": [
    "import numpy as np\n",
    "from apsg import *\n",
    "apsg_conf['figsize'] = (9, 7)"
   ]
  },
  {
   "cell_type": "code",
   "execution_count": null,
   "id": "850a4df4",
   "metadata": {},
   "outputs": [],
   "source": [
    "l1 = lin(110, 40)\n",
    "l2 = lin(250, 40)\n",
    "m = l1.slerp(l2, 0.5)\n",
    "p = lin(l1.cross(l2))"
   ]
  },
  {
   "cell_type": "code",
   "execution_count": null,
   "id": "c2d67d2d",
   "metadata": {},
   "outputs": [],
   "source": [
    "s = StereoNet()"
   ]
  },
  {
   "cell_type": "code",
   "execution_count": null,
   "id": "33c9f8ab",
   "metadata": {},
   "outputs": [],
   "source": [
    "for t in np.linspace(0, 1, 8):\n",
    "    D = defgrad.from_vectors_axis(l1, l2, m.slerp(p, t))\n",
    "    a, ang = D.axisangle()\n",
    "    s.cone(cone(a, l1, ang))"
   ]
  },
  {
   "cell_type": "code",
   "execution_count": null,
   "id": "b9f16904",
   "metadata": {},
   "outputs": [],
   "source": [
    "for a in np.linspace(10,25,4):\n",
    "    s.cone(cone(lin(315, 30), a), cone(lin(45, 30), a))"
   ]
  },
  {
   "cell_type": "code",
   "execution_count": null,
   "id": "c9c0b4ad",
   "metadata": {},
   "outputs": [],
   "source": [
    "s.show()"
   ]
  }
 ],
 "metadata": {
  "kernelspec": {
   "display_name": "Python 3",
   "language": "python",
   "name": "python3"
  },
  "language_info": {
   "codemirror_mode": {
    "name": "ipython",
    "version": 3
   },
   "file_extension": ".py",
   "mimetype": "text/x-python",
   "name": "python",
   "nbconvert_exporter": "python",
   "pygments_lexer": "ipython3",
   "version": "3.10.9"
  }
 },
 "nbformat": 4,
 "nbformat_minor": 5
}
