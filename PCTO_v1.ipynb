{
  "nbformat": 4,
  "nbformat_minor": 0,
  "metadata": {
    "colab": {
      "provenance": [],
      "authorship_tag": "ABX9TyP8qzvwZDF6rlETiHvLrRaa",
      "include_colab_link": true
    },
    "kernelspec": {
      "name": "python3",
      "display_name": "Python 3"
    },
    "language_info": {
      "name": "python"
    }
  },
  "cells": [
    {
      "cell_type": "markdown",
      "metadata": {
        "id": "view-in-github",
        "colab_type": "text"
      },
      "source": [
        "<a href=\"https://colab.research.google.com/github/mzucali/didactics/blob/main/PCTO_v1.ipynb\" target=\"_parent\"><img src=\"https://colab.research.google.com/assets/colab-badge.svg\" alt=\"Open In Colab\"/></a>"
      ]
    },
    {
      "cell_type": "code",
      "execution_count": 1,
      "metadata": {
        "id": "2iZPAT95i35z"
      },
      "outputs": [],
      "source": [
        "# --- SETUP COLAB ---\n",
        "import sys, subprocess, importlib, math\n",
        "def pip_install(p):\n",
        "    try: importlib.import_module(p.split(\"==\")[0])\n",
        "    except ImportError: subprocess.check_call([sys.executable, \"-m\", \"pip\", \"install\", p])\n",
        "\n",
        "for p in [\"numpy\",\"pandas\",\"matplotlib\",\"mplstereonet\",\"scikit-learn\",\"scipy\"]:\n",
        "    pip_install(p)\n",
        "\n",
        "import numpy as np, pandas as pd, matplotlib.pyplot as plt\n",
        "import mplstereonet\n",
        "from sklearn.cluster import KMeans\n",
        "from numpy.linalg import svd, eig\n"
      ]
    },
    {
      "cell_type": "markdown",
      "source": [
        "STEREONET and PLOT"
      ],
      "metadata": {
        "id": "_2f6NQvPnVbF"
      }
    },
    {
      "cell_type": "code",
      "source": [
        "def pole_from_strike_dip(strike_deg, dip_deg):\n",
        "    # ritorna trend/plunge del polo (right-hand rule, gradi)\n",
        "    strike = np.deg2rad(strike_deg)\n",
        "    dip = np.deg2rad(dip_deg)\n",
        "    # normale al piano in ENU\n",
        "    n = np.array([-np.sin(dip)*np.sin(strike),\n",
        "                  np.sin(dip)*np.cos(strike),\n",
        "                  np.cos(dip)])\n",
        "    # trend/plunge\n",
        "    trend = (np.rad2deg(np.arctan2(n[0], n[1]))+360)%360\n",
        "    plunge = np.rad2deg(np.arcsin(n[2]))\n",
        "    return trend, plunge\n",
        "\n",
        "def cart_from_trend_plunge(trend_deg, plunge_deg):\n",
        "    T, P = np.deg2rad(trend_deg), np.deg2rad(plunge_deg)\n",
        "    x = np.sin(T)*np.cos(P); y = np.cos(T)*np.cos(P); z = np.sin(P)\n",
        "    v = np.array([x,y,z]); return v/np.linalg.norm(v)\n"
      ],
      "metadata": {
        "id": "Dqlyeieem5TR"
      },
      "execution_count": null,
      "outputs": []
    },
    {
      "cell_type": "markdown",
      "source": [
        "FISHER STATS"
      ],
      "metadata": {
        "id": "OsEbeqMgnR75"
      }
    },
    {
      "cell_type": "code",
      "source": [
        "def fisher_mean_alpha95(vectors):\n",
        "    R = np.sum(vectors, axis=0); R_len = np.linalg.norm(R)\n",
        "    kappa = (R_len*(vectors.shape[0]-1))/(vectors.shape[0]-R_len+1e-9)\n",
        "    alpha95 = np.rad2deg(np.arccos(1 - (vectors.shape[0]-R_len)/R_len * (20**(1/(vectors.shape[0]-1))-1)))\n",
        "    mean_dir = R/R_len\n",
        "    return mean_dir, kappa, alpha95\n"
      ],
      "metadata": {
        "id": "l-8hktjvm_HU"
      },
      "execution_count": null,
      "outputs": []
    },
    {
      "cell_type": "markdown",
      "source": [
        "KMEANS"
      ],
      "metadata": {
        "id": "WGvtenP0nP7x"
      }
    },
    {
      "cell_type": "code",
      "source": [
        "def spherical_kmeans(U, k, n_init=10):\n",
        "    # U: (n,3) unit vectors\n",
        "    best=None; best_inertia=np.inf\n",
        "    for _ in range(n_init):\n",
        "        km = KMeans(n_clusters=k, n_init=1).fit(U)\n",
        "        C = km.cluster_centers_\n",
        "        C = C/np.linalg.norm(C,axis=1,keepdims=True)  # proietta su sfera\n",
        "        labels = np.argmin(((U[:,None,:]-C[None,:,:])**2).sum(2), axis=1)\n",
        "        inertia = np.mean([np.arccos(np.clip(np.dot(U[i],C[labels[i]]),-1,1))**2 for i in range(len(U))])\n",
        "        if inertia<best_inertia: best=(C,labels), best_inertia=inertia\n",
        "    return best[0]  # (centers_unit, labels)\n"
      ],
      "metadata": {
        "id": "EF4v2g57nC-U"
      },
      "execution_count": null,
      "outputs": []
    },
    {
      "cell_type": "markdown",
      "source": [
        "STRESS INVERSION"
      ],
      "metadata": {
        "id": "GUwmccQjnNeJ"
      }
    },
    {
      "cell_type": "code",
      "source": [
        "def stress_inversion_faults(strike, dip, rake):\n",
        "    # converte piani+slip in tensor minimo quadrati (soluzione didattica compatta)\n",
        "    # 1) direzioni: normale n, direzione slip s (unit)\n",
        "    def n_from_sd(s,d):\n",
        "        s, d = np.deg2rad(s), np.deg2rad(d)\n",
        "        return np.array([-np.sin(d)*np.sin(s), np.sin(d)*np.cos(s), np.cos(d)])\n",
        "    def slip_dir(s,d,r):\n",
        "        # rake su piano: costruisci basi sul piano e combina\n",
        "        s, d, r = map(np.deg2rad,[s,d,r])\n",
        "        strike_vec = np.array([ np.sin(s), np.cos(s), 0.0])\n",
        "        dip_vec    = np.array([ np.cos(s)*np.cos(d), -np.sin(s)*np.cos(d), np.sin(d)])\n",
        "        return (np.cos(r)*strike_vec + np.sin(r)*dip_vec)\n",
        "\n",
        "    N=[]; S=[]\n",
        "    for S0,D0,R0 in zip(strike,dip,rake):\n",
        "        n = n_from_sd(S0,D0); s = slip_dir(S0,D0,R0)\n",
        "        N.append(n/np.linalg.norm(n)); S.append(s/np.linalg.norm(s))\n",
        "    N, S = np.array(N), np.array(S)\n",
        "\n",
        "    # 2) minimizza ||(σ·n)_tan - s||: vincola Tr(σ)=1 (didattico)\n",
        "    # usa soluzione SVD su design matrix (semplificata)\n",
        "    A=[]; b=[]\n",
        "    for n,s in zip(N,S):\n",
        "        P = np.eye(3)-np.outer(n,n)     # proiettore tangenziale\n",
        "        # (σ·n)_tan = P·σ·n  ~ s\n",
        "        # vettorizza σ simmetrico: [σxx, σyy, σzz, σxy, σxz, σyz]\n",
        "        v = np.array([\n",
        "            P[0,0]*n[0], P[1,1]*n[1], P[2,2]*n[2],\n",
        "            P[0,1]*n[1]+P[1,0]*n[0],\n",
        "            P[0,2]*n[2]+P[2,0]*n[0],\n",
        "            P[1,2]*n[2]+P[2,1]*n[1],\n",
        "        ])\n",
        "        A.append(np.vstack([v,])*3)     # 3 eq per x,y,z (approccio compatto)\n",
        "        b.append(s)\n",
        "    A = np.vstack(A); b = np.concatenate(b)\n",
        "    # risolvi LS\n",
        "    x, *_ = np.linalg.lstsq(A, b, rcond=None)\n",
        "    Sxx,Syy,Szz,Sxy,Sxz,Syz = x\n",
        "    Sigma = np.array([[Sxx,Sxy,Sxz],[Sxy,Syy,Syz],[Sxz,Syz,Szz]])\n",
        "    # autovalori/vettori → assi principali\n",
        "    w,V = eig((Sigma+Sigma.T)/2)\n",
        "    order = np.argsort(w)[::-1]  # σ1≥σ2≥σ3\n",
        "    return w[order].real, V[:,order].real  # (eigenvalues, principal axes)\n"
      ],
      "metadata": {
        "id": "yasAMgQOnFzy"
      },
      "execution_count": null,
      "outputs": []
    },
    {
      "cell_type": "markdown",
      "source": [
        "Output didattici:\n",
        "\n",
        "stereonet con poli/linee, cluster colorati, α95;\n",
        "\n",
        "tabella assi σ1–σ3 (trend/plunge) e rapporto φ;\n",
        "\n",
        "suggerimenti su qualità dati (misfit medio, outlier)."
      ],
      "metadata": {
        "id": "ZrU56tYhnKQv"
      }
    }
  ]
}