{
  "cells": [
    {
      "cell_type": "markdown",
      "metadata": {
        "id": "view-in-github",
        "colab_type": "text"
      },
      "source": [
        "<a href=\"https://colab.research.google.com/github/mzucali/didactics/blob/main/print_variables_fabiz.ipynb\" target=\"_parent\"><img src=\"https://colab.research.google.com/assets/colab-badge.svg\" alt=\"Open In Colab\"/></a>"
      ]
    },
    {
      "cell_type": "markdown",
      "metadata": {
        "id": "IPcIml6dZpYN"
      },
      "source": [
        "This Python script does the following:\n",
        "1. Reads the `input_file`\n",
        "2. set the 'output_file'\n",
        "3. read the columns to be extracted => #python columns start from 0\n",
        "4. Opens the corresponding input file and writes the selected columns to `output_file`.\n"
      ]
    },
    {
      "cell_type": "markdown",
      "metadata": {
        "id": "RaV2DDU7ZpYP"
      },
      "source": [
        "\n"
      ]
    },
    {
      "cell_type": "code",
      "execution_count": null,
      "metadata": {
        "colab": {
          "base_uri": "https://localhost:8080/"
        },
        "id": "gJFwABIlZpYP",
        "outputId": "4bb541c0-47cb-49e9-9a43-aa554dcc032a"
      },
      "outputs": [
        {
          "output_type": "stream",
          "name": "stdout",
          "text": [
            "Extracted  [1, 2, 7]   columns and saved to {output_file}\n"
          ]
        }
      ],
      "source": [
        "# Define input and output file names\n",
        "input_file = \"output_markers700.txt\"\n",
        "output_file = \"output_py_tmp.txt\"\n",
        "#python columns start from 0\n",
        "columns_to_get = [1,2,7]\n",
        "#e.g. column 1 = X; column 2 = Y,  column 7 = Viscosity\n",
        "\n",
        "# Open input and output files\n",
        "with open(input_file, \"r\") as infile, open(output_file, \"w\") as outfile:\n",
        "    for line in infile:\n",
        "        columns = line.split()  # Split by whitespace\n",
        "        if len(columns) >= max(columns_to_get):  # Ensure enough columns exist\n",
        "            selected_values = [columns[i] for i in columns_to_get]  # Extract desired columns\n",
        "            outfile.write(\" \".join(selected_values) + \"\\n\")  # Write to output file\n",
        "\n",
        "print(f\"Extracted \",columns_to_get, \"  columns and saved to {output_file}\")"
      ]
    },
    {
      "cell_type": "markdown",
      "metadata": {
        "id": "mitRkQl4ZpYR"
      },
      "source": []
    }
  ],
  "metadata": {
    "kernelspec": {
      "display_name": "Python 3",
      "language": "python",
      "name": "python3"
    },
    "language_info": {
      "codemirror_mode": {
        "name": "ipython",
        "version": 3
      },
      "file_extension": ".py",
      "mimetype": "text/x-python",
      "name": "python",
      "nbconvert_exporter": "python",
      "pygments_lexer": "ipython3",
      "version": "3.10.9"
    },
    "colab": {
      "provenance": [],
      "include_colab_link": true
    }
  },
  "nbformat": 4,
  "nbformat_minor": 0
}